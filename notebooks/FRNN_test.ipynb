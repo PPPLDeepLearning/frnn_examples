{
 "cells": [
  {
   "cell_type": "markdown",
   "id": "cd993842",
   "metadata": {},
   "source": [
    "# Use D3D-loader to implement LSTM-style disruption prediction\n",
    "\n",
    "\n",
    "This notebook illustrates how to use an LSTM to predict disruptions.\n",
    "It operates on a dataset that has been compiled using https://github.com/PPPLDeepLearning/dataset_D3D_100\n",
    "The code for the `d3d_loaders` package is here: https://github.com/PlasmaControl/d3d_loaders\n",
    "\n",
    "Note that the interface to `d3d_loaders` is still in flux (as of 2023-03), so some function may be \n",
    "out of date. (Either a different name, or slightly different arguments).\n"
   ]
  },
  {
   "cell_type": "code",
   "execution_count": 1,
   "id": "eebde0ba",
   "metadata": {},
   "outputs": [],
   "source": [
    "from os.path import join \n",
    "import numpy as np\n",
    "import matplotlib.pyplot as plt\n",
    "import yaml\n",
    "import random\n",
    "from time import perf_counter"
   ]
  },
  {
   "cell_type": "code",
   "execution_count": 2,
   "id": "31a348a4",
   "metadata": {},
   "outputs": [],
   "source": [
    "import logging \n",
    "logging.basicConfig(filename=\"FRNN-test.log\",\n",
    "                 filemode='a',\n",
    "                 format='%(asctime)s,%(msecs)d %(name)s %(levelname)s %(message)s',\n",
    "                 datefmt='%H:%M:%S',\n",
    "                 level=logging.DEBUG)"
   ]
  },
  {
   "cell_type": "code",
   "execution_count": 3,
   "id": "ae468c45",
   "metadata": {},
   "outputs": [],
   "source": [
    "import torch\n",
    "import torch.nn as nn\n",
    "import torch.nn.functional as F\n",
    "from torch.autograd import Variable\n",
    "from torch.utils.data import DataLoader"
   ]
  },
  {
   "cell_type": "code",
   "execution_count": 4,
   "id": "84a9e52e",
   "metadata": {},
   "outputs": [],
   "source": [
    "import torch.distributed as dist"
   ]
  },
  {
   "cell_type": "code",
   "execution_count": 5,
   "id": "314b6cf8",
   "metadata": {},
   "outputs": [
    {
     "data": {
      "text/plain": [
       "True"
      ]
     },
     "execution_count": 5,
     "metadata": {},
     "output_type": "execute_result"
    }
   ],
   "source": [
    "dist.is_available()"
   ]
  },
  {
   "cell_type": "code",
   "execution_count": null,
   "id": "9d313433",
   "metadata": {},
   "outputs": [],
   "source": []
  },
  {
   "cell_type": "code",
   "execution_count": 6,
   "id": "ca89dd44",
   "metadata": {},
   "outputs": [],
   "source": [
    "import sys\n",
    "sys.path.append(\"/home/rkube/repos/d3d_loaders\")"
   ]
  },
  {
   "cell_type": "code",
   "execution_count": 7,
   "id": "b0134a28",
   "metadata": {},
   "outputs": [],
   "source": [
    "from d3d_loaders.time_sampling import sampler_causal, sampler_linearip, sampler_space\n",
    "from d3d_loaders.standardizers import standardizer_mean_std\n",
    "from d3d_loaders.d3d_loaders import Multishot_dataset\n",
    "from d3d_loaders.samplers import BatchedSampler, BatchedSampler_multi, collate_fn_batched\n",
    "#from d3d_loaders.samplers import RandomBatchedSampler_multishot, collate_fn_random_batch_seq_multi"
   ]
  },
  {
   "cell_type": "code",
   "execution_count": 8,
   "id": "5a0b3eee",
   "metadata": {},
   "outputs": [],
   "source": [
    "# ML parameters\n",
    "seq_length = 128   # Length of the sequence used to predict the Time-To-Disruption (TTD)\n",
    "batch_size = 16     \n",
    "\n",
    "device = torch.device(\"cuda:0\" if torch.cuda.is_available() else \"cpu\")"
   ]
  },
  {
   "cell_type": "code",
   "execution_count": 9,
   "id": "1c9c0b5d",
   "metadata": {},
   "outputs": [],
   "source": [
    "# Fetch the dataset definition.\n",
    "# The dataset was compiled with the code in\n",
    "# https://github.com/PPPLDeepLearning/dataset_D3D_100\n",
    "datapath = \"/projects/FRNN/dataset_D3D_100/D3D_100\"\n",
    "\n",
    "# fetch dataset definition for list of predictors.\n",
    "with open(join(datapath, \"..\", \"d3d_100.yaml\"), \"r\") as fp:\n",
    "    d3d_100 = yaml.safe_load(fp)"
   ]
  },
  {
   "cell_type": "code",
   "execution_count": 10,
   "id": "fd1c5818",
   "metadata": {},
   "outputs": [],
   "source": [
    "# Next we need to instantiate samplers.\n",
    "# These are used when reading the signal data from HDF5 and resample the raw MDS/PTdata signals\n",
    "# onto a common time-base\n",
    "# Each shot has a different length. We therefore create separate re-samplers for each shot\n",
    "# that will operate on the duration for each specific shot.\n",
    "#\n",
    "# The times t_max and t_min have been calculated when the dataset was instantiated.\n",
    "\n",
    "# Load tmax from yaml\n",
    "with open(join(datapath, \"..\", \"shots_t_min_max.yaml\"), \"r\") as fp:\n",
    "    t_min_max_dict = yaml.safe_load(fp)\n",
    "\n",
    "# The d3d_datasets expects a that the samplers for each shot are passed as a dictionary.\n",
    "sampler_pred_dict = {}\n",
    "sampler_targ_dict = {}\n",
    "\n",
    "# Instantiate the samplers and store in the dict.\n",
    "for shotnr in d3d_100[\"shots\"].keys():\n",
    "    tmin = t_min_max_dict[shotnr][\"tmin\"]\n",
    "    tmax = t_min_max_dict[shotnr][\"tmax\"]\n",
    "    sampler_pred_dict.update({shotnr: sampler_causal(tmin, tmax, 1.0, t_shift=0.0)})\n",
    "    sampler_targ_dict.update({shotnr: sampler_linearip(tmin, tmax, 1.0, t_shift=0.0)})"
   ]
  },
  {
   "cell_type": "code",
   "execution_count": 11,
   "id": "b9f1c7f5",
   "metadata": {},
   "outputs": [
    {
     "name": "stdout",
     "output_type": "stream",
     "text": [
      "q95: - standardizer_mean_std, mean=5.039928436279297, std=1.5716230869293213\n",
      "efsli: - standardizer_mean_std, mean=0.35555943846702576, std=1.857176423072815\n",
      "ipspr15V: - standardizer_mean_std, mean=0.5942406058311462, std=1.3463371992111206\n",
      "efsbetan: - standardizer_mean_std, mean=0.5025940537452698, std=2.617089033126831\n",
      "efswmhd: - standardizer_mean_std, mean=192412.53125, std=336368.1875\n",
      "dssdenest: - standardizer_mean_std, mean=1.5957257747650146, std=2.1213574409484863\n",
      "pradcore: - standardizer_mean_std, mean=0.000497624627314508, std=0.0013699629344046116\n",
      "pradedge: - standardizer_mean_std, mean=0.00027844574651680887, std=0.0006822358118370175\n",
      "bmspinj: - standardizer_mean_std, mean=2996.464599609375, std=3231.459228515625\n",
      "bmstinj: - standardizer_mean_std, mean=2.405306577682495, std=2.611988067626953\n",
      "ipsiptargt: - standardizer_mean_std, mean=1.0042184591293335, std=1.1156623363494873\n",
      "ipeecoil: - standardizer_mean_std, mean=-0.023169364780187607, std=0.18698279559612274\n",
      "edensfit: - standardizer_mean_std, mean=3.132974863052368, std=2.1050822734832764\n",
      "etempfit: - standardizer_mean_std, mean=1.455143928527832, std=1.318780779838562\n"
     ]
    }
   ],
   "source": [
    "# Signals are to be normalized to a mean and standard deviation that is calculated over all shots\n",
    "# in the dataset. Again, these have been calculated during dataset instantiation and stored in a yaml file.\n",
    "# Here we only need to read the results from that file and instantiate a standardizer for each predictor.\n",
    "  \n",
    "norm_dict = {}\n",
    "with open(join(datapath, \"..\", \"normalization.yaml\"), \"r\") as fp:\n",
    "    normalization = yaml.safe_load(fp)\n",
    "\n",
    "for k, v in normalization.items():\n",
    "    norm_dict[k] = standardizer_mean_std(v[\"mean\"], v[\"std\"])\n",
    "    \n",
    "# See if normalizers exists for each predictor\n",
    "for k in d3d_100[\"predictors\"]:\n",
    "    print(f\"{k}: - {norm_dict[k]}\")"
   ]
  },
  {
   "cell_type": "code",
   "execution_count": 12,
   "id": "897a4560",
   "metadata": {},
   "outputs": [],
   "source": [
    "# Instantiate a sampler for the profiles.\n",
    "# This will re-sample edensfit and etempfit on psi=[0.0, 1.0] with 32 points\n",
    "\n",
    "ip_profile = sampler_space(np.linspace(0.0, 1.0, 32, dtype=np.float32))"
   ]
  },
  {
   "cell_type": "code",
   "execution_count": 13,
   "id": "ad2962d4",
   "metadata": {},
   "outputs": [],
   "source": [
    "# To a random test/train split over the shots.\n",
    "shot_list = list(d3d_100[\"shots\"].keys())\n",
    "random.shuffle(shot_list)\n",
    "\n",
    "# Split\n",
    "num_shots = len(shot_list)\n",
    "num_train = 5\n",
    "num_valid = 1\n",
    "\n",
    "shots_train = shot_list[:num_train]\n",
    "shots_valid = shot_list[num_train:num_train + num_valid]"
   ]
  },
  {
   "cell_type": "code",
   "execution_count": 14,
   "id": "137c17b4",
   "metadata": {},
   "outputs": [
    {
     "data": {
      "text/plain": [
       "[167607, 167571, 167606, 167562, 167529]"
      ]
     },
     "execution_count": 14,
     "metadata": {},
     "output_type": "execute_result"
    }
   ],
   "source": [
    "shots_train"
   ]
  },
  {
   "cell_type": "code",
   "execution_count": 15,
   "id": "5b4ce653",
   "metadata": {},
   "outputs": [
    {
     "data": {
      "text/plain": [
       "['q95',\n",
       " 'efsli',\n",
       " 'ipspr15V',\n",
       " 'efsbetan',\n",
       " 'efswmhd',\n",
       " 'dssdenest',\n",
       " 'pradcore',\n",
       " 'pradedge',\n",
       " 'bmspinj',\n",
       " 'bmstinj',\n",
       " 'ipsiptargt',\n",
       " 'ipeecoil',\n",
       " 'edensfit',\n",
       " 'etempfit']"
      ]
     },
     "execution_count": 15,
     "metadata": {},
     "output_type": "execute_result"
    }
   ],
   "source": [
    "d3d_100[\"predictors\"]"
   ]
  },
  {
   "cell_type": "code",
   "execution_count": 16,
   "id": "be629c46",
   "metadata": {},
   "outputs": [
    {
     "data": {
      "text/plain": [
       "{167475: sampler_linearip: 300.0, 5760.0, 1.0), shift=0.0ms,\n",
       " 167481: sampler_linearip: 300.0, 6140.0, 1.0), shift=0.0ms,\n",
       " 167482: sampler_linearip: 300.0, 6040.0, 1.0), shift=0.0ms,\n",
       " 167483: sampler_linearip: 300.0, 6200.0, 1.0), shift=0.0ms,\n",
       " 167484: sampler_linearip: 300.0, 6060.0, 1.0), shift=0.0ms,\n",
       " 167485: sampler_linearip: 300.0, 6120.0, 1.0), shift=0.0ms,\n",
       " 167486: sampler_linearip: 300.0, 5740.0, 1.0), shift=0.0ms,\n",
       " 167489: sampler_linearip: 300.0, 6160.0, 1.0), shift=0.0ms,\n",
       " 167490: sampler_linearip: 300.0, 6200.0, 1.0), shift=0.0ms,\n",
       " 167491: sampler_linearip: 300.0, 6220.0, 1.0), shift=0.0ms,\n",
       " 167493: sampler_linearip: 300.0, 6380.0, 1.0), shift=0.0ms,\n",
       " 167495: sampler_linearip: 300.0, 3060.0, 1.0), shift=0.0ms,\n",
       " 167502: sampler_linearip: 300.0, 6360.0, 1.0), shift=0.0ms,\n",
       " 167504: sampler_linearip: 300.0, 6380.0, 1.0), shift=0.0ms,\n",
       " 167506: sampler_linearip: 300.0, 6380.0, 1.0), shift=0.0ms,\n",
       " 167516: sampler_linearip: 300.0, 6260.0, 1.0), shift=0.0ms,\n",
       " 167517: sampler_linearip: 300.0, 6380.0, 1.0), shift=0.0ms,\n",
       " 167518: sampler_linearip: 300.0, 6100.0, 1.0), shift=0.0ms,\n",
       " 167519: sampler_linearip: 300.0, 6040.0, 1.0), shift=0.0ms,\n",
       " 167520: sampler_linearip: 300.0, 6100.0, 1.0), shift=0.0ms,\n",
       " 167521: sampler_linearip: 300.0, 5700.0, 1.0), shift=0.0ms,\n",
       " 167522: sampler_linearip: 300.0, 5840.0, 1.0), shift=0.0ms,\n",
       " 167523: sampler_linearip: 300.0, 5880.0, 1.0), shift=0.0ms,\n",
       " 167524: sampler_linearip: 300.0, 5880.0, 1.0), shift=0.0ms,\n",
       " 167525: sampler_linearip: 300.0, 5840.0, 1.0), shift=0.0ms,\n",
       " 167526: sampler_linearip: 300.0, 5880.0, 1.0), shift=0.0ms,\n",
       " 167527: sampler_linearip: 300.0, 5720.0, 1.0), shift=0.0ms,\n",
       " 167528: sampler_linearip: 300.0, 5840.0, 1.0), shift=0.0ms,\n",
       " 167529: sampler_linearip: 300.0, 5860.0, 1.0), shift=0.0ms,\n",
       " 167530: sampler_linearip: 300.0, 5880.0, 1.0), shift=0.0ms,\n",
       " 167531: sampler_linearip: 300.0, 5840.0, 1.0), shift=0.0ms,\n",
       " 167532: sampler_linearip: 300.0, 5780.0, 1.0), shift=0.0ms,\n",
       " 167533: sampler_linearip: 300.0, 5700.0, 1.0), shift=0.0ms,\n",
       " 167534: sampler_linearip: 300.0, 5780.0, 1.0), shift=0.0ms,\n",
       " 167535: sampler_linearip: 300.0, 5840.0, 1.0), shift=0.0ms,\n",
       " 167536: sampler_linearip: 300.0, 5740.0, 1.0), shift=0.0ms,\n",
       " 167537: sampler_linearip: 300.0, 5860.0, 1.0), shift=0.0ms,\n",
       " 167538: sampler_linearip: 300.0, 6080.0, 1.0), shift=0.0ms,\n",
       " 167539: sampler_linearip: 300.0, 6160.0, 1.0), shift=0.0ms,\n",
       " 167540: sampler_linearip: 300.0, 6120.0, 1.0), shift=0.0ms,\n",
       " 167541: sampler_linearip: 300.0, 6340.0, 1.0), shift=0.0ms,\n",
       " 167542: sampler_linearip: 300.0, 6320.0, 1.0), shift=0.0ms,\n",
       " 167547: sampler_linearip: 300.0, 6380.0, 1.0), shift=0.0ms,\n",
       " 167549: sampler_linearip: 300.0, 440.0, 1.0), shift=0.0ms,\n",
       " 167551: sampler_linearip: 300.0, 5640.0, 1.0), shift=0.0ms,\n",
       " 167552: sampler_linearip: 300.0, 5820.0, 1.0), shift=0.0ms,\n",
       " 167553: sampler_linearip: 300.0, 3680.0, 1.0), shift=0.0ms,\n",
       " 167554: sampler_linearip: 300.0, 6260.0, 1.0), shift=0.0ms,\n",
       " 167555: sampler_linearip: 300.0, 6140.0, 1.0), shift=0.0ms,\n",
       " 167563: sampler_linearip: 300.0, 5900.0, 1.0), shift=0.0ms,\n",
       " 167567: sampler_linearip: 320.0, 780.0, 1.0), shift=0.0ms,\n",
       " 167568: sampler_linearip: 300.0, 2780.0, 1.0), shift=0.0ms,\n",
       " 167569: sampler_linearip: 320.0, 2600.0, 1.0), shift=0.0ms,\n",
       " 167570: sampler_linearip: 300.0, 3500.0, 1.0), shift=0.0ms,\n",
       " 167571: sampler_linearip: 300.0, 3240.0, 1.0), shift=0.0ms,\n",
       " 167572: sampler_linearip: 300.0, 5140.0, 1.0), shift=0.0ms,\n",
       " 167574: sampler_linearip: 300.0, 900.0, 1.0), shift=0.0ms,\n",
       " 167575: sampler_linearip: 300.0, 4340.0, 1.0), shift=0.0ms,\n",
       " 167576: sampler_linearip: 300.0, 3600.0, 1.0), shift=0.0ms,\n",
       " 167577: sampler_linearip: 300.0, 3900.0, 1.0), shift=0.0ms,\n",
       " 167578: sampler_linearip: 300.0, 5220.0, 1.0), shift=0.0ms,\n",
       " 167579: sampler_linearip: 300.0, 5900.0, 1.0), shift=0.0ms,\n",
       " 167580: sampler_linearip: 300.0, 4440.0, 1.0), shift=0.0ms,\n",
       " 167589: sampler_linearip: 300.0, 5620.0, 1.0), shift=0.0ms,\n",
       " 167600: sampler_linearip: 300.0, 3580.0, 1.0), shift=0.0ms,\n",
       " 167601: sampler_linearip: 300.0, 4500.0, 1.0), shift=0.0ms,\n",
       " 167602: sampler_linearip: 300.0, 4000.0, 1.0), shift=0.0ms,\n",
       " 167603: sampler_linearip: 300.0, 6320.0, 1.0), shift=0.0ms,\n",
       " 167605: sampler_linearip: 300.0, 6380.0, 1.0), shift=0.0ms,\n",
       " 167606: sampler_linearip: 300.0, 6380.0, 1.0), shift=0.0ms,\n",
       " 167607: sampler_linearip: 300.0, 6380.0, 1.0), shift=0.0ms,\n",
       " 167608: sampler_linearip: 300.0, 6380.0, 1.0), shift=0.0ms,\n",
       " 167618: sampler_linearip: 300.0, 5800.0, 1.0), shift=0.0ms,\n",
       " 167480: sampler_linearip: 300.0, 5059.0, 1.0), shift=0.0ms,\n",
       " 167487: sampler_linearip: 340.0, 2139.0, 1.0), shift=0.0ms,\n",
       " 167488: sampler_linearip: 320.0, 5259.0, 1.0), shift=0.0ms,\n",
       " 167492: sampler_linearip: 300.0, 7088.0, 1.0), shift=0.0ms,\n",
       " 167494: sampler_linearip: 300.0, 3478.0, 1.0), shift=0.0ms,\n",
       " 167496: sampler_linearip: 300.0, 6379.0, 1.0), shift=0.0ms,\n",
       " 167497: sampler_linearip: 300.0, 6663.0, 1.0), shift=0.0ms,\n",
       " 167500: sampler_linearip: 300.0, 5281.0, 1.0), shift=0.0ms,\n",
       " 167501: sampler_linearip: 300.0, 6870.0, 1.0), shift=0.0ms,\n",
       " 167503: sampler_linearip: 300.0, 4615.0, 1.0), shift=0.0ms,\n",
       " 167505: sampler_linearip: 300.0, 5835.0, 1.0), shift=0.0ms,\n",
       " 167550: sampler_linearip: 300.0, 2418.0, 1.0), shift=0.0ms,\n",
       " 167556: sampler_linearip: 300.0, 5325.0, 1.0), shift=0.0ms,\n",
       " 167557: sampler_linearip: 300.0, 5263.0, 1.0), shift=0.0ms,\n",
       " 167558: sampler_linearip: 300.0, 5222.0, 1.0), shift=0.0ms,\n",
       " 167559: sampler_linearip: 300.0, 4382.0, 1.0), shift=0.0ms,\n",
       " 167560: sampler_linearip: 320.0, 883.0, 1.0), shift=0.0ms,\n",
       " 167561: sampler_linearip: 300.0, 3428.0, 1.0), shift=0.0ms,\n",
       " 167562: sampler_linearip: 300.0, 3831.0, 1.0), shift=0.0ms,\n",
       " 167564: sampler_linearip: 300.0, 2640.0, 1.0), shift=0.0ms,\n",
       " 167565: sampler_linearip: 300.0, 2804.0, 1.0), shift=0.0ms,\n",
       " 167566: sampler_linearip: 300.0, 2733.0, 1.0), shift=0.0ms,\n",
       " 167586: sampler_linearip: 300.0, 2967.0, 1.0), shift=0.0ms,\n",
       " 167587: sampler_linearip: 300.0, 5072.0, 1.0), shift=0.0ms,\n",
       " 167588: sampler_linearip: 300.0, 5124.0, 1.0), shift=0.0ms,\n",
       " 167590: sampler_linearip: 300.0, 5076.0, 1.0), shift=0.0ms,\n",
       " 167591: sampler_linearip: 300.0, 5206.0, 1.0), shift=0.0ms,\n",
       " 167592: sampler_linearip: 300.0, 1541.0, 1.0), shift=0.0ms,\n",
       " 167593: sampler_linearip: 300.0, 5521.0, 1.0), shift=0.0ms,\n",
       " 167594: sampler_linearip: 300.0, 1891.0, 1.0), shift=0.0ms,\n",
       " 167595: sampler_linearip: 300.0, 3250.0, 1.0), shift=0.0ms,\n",
       " 167596: sampler_linearip: 300.0, 2214.0, 1.0), shift=0.0ms,\n",
       " 167597: sampler_linearip: 300.0, 2118.0, 1.0), shift=0.0ms,\n",
       " 167598: sampler_linearip: 300.0, 1967.0, 1.0), shift=0.0ms,\n",
       " 167599: sampler_linearip: 300.0, 2018.0, 1.0), shift=0.0ms,\n",
       " 167610: sampler_linearip: 300.0, 1717.0, 1.0), shift=0.0ms,\n",
       " 167611: sampler_linearip: 300.0, 2536.0, 1.0), shift=0.0ms,\n",
       " 167612: sampler_linearip: 300.0, 4774.0, 1.0), shift=0.0ms,\n",
       " 167613: sampler_linearip: 300.0, 619.0, 1.0), shift=0.0ms,\n",
       " 167614: sampler_linearip: 300.0, 4767.0, 1.0), shift=0.0ms,\n",
       " 167615: sampler_linearip: 300.0, 4079.0, 1.0), shift=0.0ms,\n",
       " 167616: sampler_linearip: 300.0, 1237.0, 1.0), shift=0.0ms,\n",
       " 167617: sampler_linearip: 300.0, 4100.0, 1.0), shift=0.0ms,\n",
       " 167619: sampler_linearip: 300.0, 4916.0, 1.0), shift=0.0ms,\n",
       " 167621: sampler_linearip: 300.0, 4590.0, 1.0), shift=0.0ms}"
      ]
     },
     "execution_count": 16,
     "metadata": {},
     "output_type": "execute_result"
    }
   ],
   "source": [
    "sampler_targ_dict"
   ]
  },
  {
   "cell_type": "code",
   "execution_count": 17,
   "id": "34c35968",
   "metadata": {},
   "outputs": [
    {
     "data": {
      "text/plain": [
       "{'bmspinj': standardizer_mean_std, mean=2996.464599609375, std=3231.459228515625,\n",
       " 'bmstinj': standardizer_mean_std, mean=2.405306577682495, std=2.611988067626953,\n",
       " 'dssdenest': standardizer_mean_std, mean=1.5957257747650146, std=2.1213574409484863,\n",
       " 'edensfit': standardizer_mean_std, mean=3.132974863052368, std=2.1050822734832764,\n",
       " 'efsbetan': standardizer_mean_std, mean=0.5025940537452698, std=2.617089033126831,\n",
       " 'efsli': standardizer_mean_std, mean=0.35555943846702576, std=1.857176423072815,\n",
       " 'efswmhd': standardizer_mean_std, mean=192412.53125, std=336368.1875,\n",
       " 'etempfit': standardizer_mean_std, mean=1.455143928527832, std=1.318780779838562,\n",
       " 'ipeecoil': standardizer_mean_std, mean=-0.023169364780187607, std=0.18698279559612274,\n",
       " 'ipsiptargt': standardizer_mean_std, mean=1.0042184591293335, std=1.1156623363494873,\n",
       " 'ipspr15V': standardizer_mean_std, mean=0.5942406058311462, std=1.3463371992111206,\n",
       " 'pradcore': standardizer_mean_std, mean=0.000497624627314508, std=0.0013699629344046116,\n",
       " 'pradedge': standardizer_mean_std, mean=0.00027844574651680887, std=0.0006822358118370175,\n",
       " 'q95': standardizer_mean_std, mean=5.039928436279297, std=1.5716230869293213}"
      ]
     },
     "execution_count": 17,
     "metadata": {},
     "output_type": "execute_result"
    }
   ],
   "source": [
    "norm_dict"
   ]
  },
  {
   "cell_type": "code",
   "execution_count": null,
   "id": "df3a73af",
   "metadata": {},
   "outputs": [],
   "source": []
  },
  {
   "cell_type": "code",
   "execution_count": null,
   "id": "6c5ba971",
   "metadata": {},
   "outputs": [],
   "source": []
  },
  {
   "cell_type": "code",
   "execution_count": 18,
   "id": "ee73da9e",
   "metadata": {},
   "outputs": [],
   "source": [
    "# Create the training set. This fetches all signals for all shots from HDF5 files and loads them\n",
    "# into memory (torch.device(\"cpu\")). Pass the previously instantiated samplers and standardizers\n",
    "# to resample and normalize the raw signals that are stored in HDF5 files. The data in memory is then\n",
    "# resampled and normalized.\n",
    "ds_train = Multishot_dataset(shots_train, d3d_100[\"predictors\"], [\"ttd\"],\n",
    "                             sampler_pred_dict, sampler_targ_dict, ip_profile, norm_dict, datapath, torch.device(\"cpu\"))\n"
   ]
  },
  {
   "cell_type": "code",
   "execution_count": 19,
   "id": "af41d5f7",
   "metadata": {},
   "outputs": [
    {
     "name": "stdout",
     "output_type": "stream",
     "text": [
      "shot 167607, length: 6080\n",
      "shot 167571, length: 2940\n",
      "shot 167606, length: 6080\n",
      "shot 167562, length: 3531\n",
      "shot 167529, length: 5560\n"
     ]
    }
   ],
   "source": [
    "# Print out info on the shots and lengths of the training set\n",
    "shot_length_train = []\n",
    "for ix, shotnr in enumerate(shots_train):\n",
    "    shot_length_train.append(ds_train.shot(ix).__len__())\n",
    "    print(f\"shot {shotnr}, length: {shot_length_train[-1]}\")"
   ]
  },
  {
   "cell_type": "code",
   "execution_count": 20,
   "id": "f7490e79",
   "metadata": {},
   "outputs": [],
   "source": [
    "# Create the validation set in the same manner as the training set\n",
    "ds_valid = Multishot_dataset(shots_valid, d3d_100[\"predictors\"], [\"ttd\"],\n",
    "                             sampler_pred_dict, sampler_targ_dict, ip_profile, norm_dict, datapath, torch.device(\"cpu\"))"
   ]
  },
  {
   "cell_type": "code",
   "execution_count": 21,
   "id": "bdd13c2b",
   "metadata": {},
   "outputs": [
    {
     "name": "stdout",
     "output_type": "stream",
     "text": [
      "shot 167605, length: 6080\n"
     ]
    }
   ],
   "source": [
    "# Print info on validation set\n",
    "shot_length_valid = []\n",
    "for ix, shotnr in enumerate(shots_valid):\n",
    "    shot_length_valid.append(ds_valid.shot(ix).__len__())\n",
    "    print(f\"shot {shotnr}, length: {shot_length_valid[-1]}\")"
   ]
  },
  {
   "cell_type": "code",
   "execution_count": 22,
   "id": "81e1b4d8",
   "metadata": {},
   "outputs": [
    {
     "data": {
      "text/plain": [
       "Text(0, 0.5, 'log10(TTD)')"
      ]
     },
     "execution_count": 22,
     "metadata": {},
     "output_type": "execute_result"
    },
    {
     "data": {
      "image/png": "[encoded data removed]",
      "text/plain": [
       "<Figure size 640x480 with 2 Axes>"
      ]
     },
     "metadata": {},
     "output_type": "display_data"
    }
   ],
   "source": [
    "# Plot TTD target for test and validation sets\n",
    "fig = plt.figure()\n",
    "ax_tr = fig.add_axes([0.2, 0.2, 0.75, 0.375])\n",
    "ax_vl = fig.add_axes([0.2, 0.575, 0.75, 0.375])\n",
    "\n",
    "\n",
    "for ix_shot in range(len(ds_train.datasets)):\n",
    "    ax_tr.plot(ds_train.shot(ix_shot).targets[\"ttd\"].data)\n",
    "    \n",
    "for ix_shot in range(len(ds_valid.datasets)):\n",
    "    ax_vl.plot(ds_valid.shot(ix_shot).targets[\"ttd\"].data)\n",
    "    \n",
    "ax_tr.set_xlabel(\"time [sample] (1sample=1ms)\")\n",
    "ax_tr.set_ylabel(\"log10(TTD)\")\n",
    "ax_vl.set_ylabel(\"log10(TTD)\")"
   ]
  },
  {
   "cell_type": "code",
   "execution_count": 24,
   "id": "1f639aba",
   "metadata": {},
   "outputs": [],
   "source": [
    "# Instantiate a loader for the training set.\n",
    "# This loader picks 'batch_size' sequences of size seq_length+1 at random starting points, distributed across shots.\n",
    "# Use shuffle=True to shuffle the dataset. Note that the sampler sets a seed for shuffling. During training\n",
    "# we have to manually set the seed so that the shuffling will be different in every epoch\n",
    "sampler_train = BatchedSampler_multi(shot_length_train, seq_length, batch_size, shuffle=True)\n",
    "\n",
    "loader_train = DataLoader(ds_train,\n",
    "                         batch_sampler=sampler_train, \n",
    "                         collate_fn=collate_fn_batched())"
   ]
  },
  {
   "cell_type": "code",
   "execution_count": 25,
   "id": "6ee23087",
   "metadata": {},
   "outputs": [
    {
     "name": "stdout",
     "output_type": "stream",
     "text": [
      "torch.Size([129, 16, 76]) torch.Size([129, 16, 1]) <class 'torch.Tensor'> torch.float32 <class 'torch.Tensor'> torch.float32\n",
      "1 iteration over dataset takes  10.879s\n"
     ]
    }
   ],
   "source": [
    "# Verify that we can iterate over all sequences and print timing info. Print out info on the shape of\n",
    "# the returned tensors in the first epoch.\n",
    "# Dimemsions should be [seq_length+1, batch_size, number_of_predictors] for x\n",
    "# and [seq_length+1, batch_size, number_of_targets] for y.\n",
    "# Number of predictors len(d3d_100[\"predictors\"]), since each predictor only has one channel.\n",
    "# Number of targets is 1, since we only predict 'ttd'\n",
    "out = True\n",
    "t_start = perf_counter()\n",
    "for x, y in loader_train:\n",
    "    if out:\n",
    "        print(x.shape, y.shape, type(x), x.dtype, type(y), y.dtype)\n",
    "        out = False\n",
    "    continue\n",
    "t_end = perf_counter()\n",
    "print(f\"1 iteration over dataset takes {(t_end - t_start):7.3f}s\")"
   ]
  },
  {
   "cell_type": "code",
   "execution_count": 26,
   "id": "2980b1aa",
   "metadata": {},
   "outputs": [],
   "source": [
    "sampler_valid = BatchedSampler_multi(shot_length_valid, seq_length, batch_size, shuffle=True)\n",
    "\n",
    "loader_valid = DataLoader(ds_valid,\n",
    "                          batch_sampler=sampler_valid,\n",
    "                          collate_fn=collate_fn_batched())"
   ]
  },
  {
   "cell_type": "code",
   "execution_count": 27,
   "id": "1fe3e911",
   "metadata": {},
   "outputs": [
    {
     "name": "stdout",
     "output_type": "stream",
     "text": [
      "torch.Size([129, 16, 76]) torch.Size([129, 16, 1]) <class 'torch.Tensor'> torch.float32 <class 'torch.Tensor'> torch.float32\n",
      "1 iteration over validation dataset takes   2.808s\n"
     ]
    }
   ],
   "source": [
    "out = True\n",
    "t_start = perf_counter()\n",
    "\n",
    "for x, y in loader_valid:\n",
    "    if out:\n",
    "        print(x.shape, y.shape, type(x), x.dtype, type(y), y.dtype)\n",
    "        out = False\n",
    "    continue\n",
    "t_end = perf_counter()\n",
    "print(f\"1 iteration over validation dataset takes {(t_end - t_start):7.3f}s\")"
   ]
  },
  {
   "cell_type": "code",
   "execution_count": 28,
   "id": "aaa7fa43",
   "metadata": {},
   "outputs": [],
   "source": [
    "# Define a simple LSTM model\n",
    "\n",
    "class my_lstm(nn.Module):\n",
    "    def __init__(self, num_classes, input_size, hidden_size, seq_length, num_layers=2):\n",
    "        super(my_lstm, self).__init__()\n",
    "        self.num_classes = num_classes  # Number of output features\n",
    "        self.input_size = input_size    # Number of features in the input x\n",
    "        self.hidden_size = hidden_size  # Number of features in hidden state h\n",
    "        self.seq_length = seq_length  \n",
    "        self.num_layers = num_layers\n",
    "        self.device = device\n",
    "        \n",
    "        self.lstm = nn.LSTM(input_size=self.input_size, \n",
    "                            hidden_size=self.hidden_size,\n",
    "                            num_layers=self.num_layers, \n",
    "                            batch_first=False) #lstm\n",
    "        self.fc_1 =  nn.Linear(hidden_size, 128) #fully connected 1\n",
    "        self.fc_2 = nn.Linear(128, num_classes) #fully connected last layer\n",
    "\n",
    "        self.relu = nn.ReLU()\n",
    "    \n",
    "    def forward(self, x):\n",
    "        h_0 = Variable(torch.zeros(self.num_layers, x.size(1), self.hidden_size)).to(device) #hidden state\n",
    "        c_0 = Variable(torch.zeros(self.num_layers, x.size(1), self.hidden_size)).to(device) #internal state\n",
    "        # Propagate input through LSTM\n",
    "        output, (hn, cn) = self.lstm(x, (h_0, c_0)) #lstm with input, hidden, and internal state\n",
    "        \n",
    "        hn = hn[-1, ...]    # Take output of the last hidden recurrent layer\n",
    "        out = self.relu(hn)\n",
    "        out = self.fc_1(out) #first Dense\n",
    "        out = self.relu(out) #relu\n",
    "        out = self.fc_2(out)  # Final Output\n",
    "        return out"
   ]
  },
  {
   "cell_type": "code",
   "execution_count": 32,
   "id": "bf9cf21c",
   "metadata": {},
   "outputs": [
    {
     "name": "stdout",
     "output_type": "stream",
     "text": [
      "518401 parameters\n"
     ]
    }
   ],
   "source": [
    "# Instantiate the model. num_classes=1, since the output is a 1d sequence (the TTD).\n",
    "# input_size is just the number of predictors (remember, 1 channel per predictor)\n",
    "model = my_lstm(1, 76, hidden_size=128, seq_length=seq_length, num_layers=4).to(device)\n",
    "\n",
    "# Calculate parameters\n",
    "n_param = 0\n",
    "for param in model.parameters():\n",
    "    n_param += param.nelement()\n",
    "print(f\"{n_param} parameters\")"
   ]
  },
  {
   "cell_type": "code",
   "execution_count": 33,
   "id": "7fd335b1",
   "metadata": {},
   "outputs": [],
   "source": [
    "# Create a loss function and optimizer\n",
    "loss_fn = nn.MSELoss()\n",
    "optimizer = torch.optim.Adam(model.parameters(), lr=5e-4)"
   ]
  },
  {
   "cell_type": "code",
   "execution_count": 34,
   "id": "737f7aaf",
   "metadata": {},
   "outputs": [
    {
     "name": "stdout",
     "output_type": "stream",
     "text": [
      "Epoch 0 took  24.761s. train loss = 4.278297e-03, valid loss =  1.055780e-04\n",
      "Epoch 1 took  22.974s. train loss = 2.289649e-04, valid loss =  5.804334e-05\n",
      "Epoch 2 took  22.945s. train loss = 2.116600e-04, valid loss =  4.575842e-07\n",
      "Epoch 3 took  22.897s. train loss = 1.451234e-04, valid loss =  8.132582e-06\n",
      "Epoch 4 took  22.826s. train loss = 1.490317e-04, valid loss =  1.885514e-06\n",
      "Epoch 5 took  22.957s. train loss = 1.282024e-04, valid loss =  1.332365e-05\n",
      "Epoch 6 took  22.955s. train loss = 6.786023e-05, valid loss =  5.055024e-06\n",
      "Epoch 7 took  22.780s. train loss = 5.644238e-05, valid loss =  4.469190e-06\n",
      "Epoch 8 took  23.448s. train loss = 8.178302e-05, valid loss =  5.280778e-07\n",
      "Epoch 9 took  23.084s. train loss = 8.173516e-05, valid loss =  2.553757e-07\n",
      "Epoch 10 took  23.096s. train loss = 7.679134e-05, valid loss =  6.907577e-07\n",
      "Epoch 11 took  22.891s. train loss = 3.033060e-05, valid loss =  4.259007e-07\n",
      "Epoch 12 took  22.891s. train loss = 3.077327e-05, valid loss =  1.570574e-06\n",
      "Epoch 13 took  22.907s. train loss = 4.702373e-05, valid loss =  1.405941e-05\n",
      "Epoch 14 took  23.068s. train loss = 5.761487e-05, valid loss =  2.696874e-06\n",
      "Epoch 15 took  22.859s. train loss = 1.545317e-05, valid loss =  2.968378e-08\n",
      "Epoch 16 took  22.917s. train loss = 1.533154e-05, valid loss =  4.078012e-07\n",
      "Epoch 17 took  22.892s. train loss = 1.189625e-05, valid loss =  2.564264e-06\n",
      "Epoch 18 took  23.171s. train loss = 1.059039e-05, valid loss =  6.116114e-06\n",
      "Epoch 19 took  23.064s. train loss = 2.077293e-05, valid loss =  7.175938e-08\n"
     ]
    }
   ],
   "source": [
    "# Train the model. This uses about 15-40% GPU on a single A100, depending on the size of the model.\n",
    "\n",
    "num_epochs = 20\n",
    "\n",
    "losses_train = np.zeros(num_epochs)\n",
    "losses_valid = np.zeros(num_epochs)\n",
    "\n",
    "for epoch in range(num_epochs):\n",
    "    # Remember to update the epoch of the samplers to use a new seed for sample shuffling\n",
    "    sampler_train.set_epoch(epoch)\n",
    "    sampler_valid.set_epoch(epoch)\n",
    "\n",
    "    t_start = perf_counter()\n",
    "    model.train()\n",
    "\n",
    "    loss_train = 0.0\n",
    "    loss_valid = 0.0\n",
    "    ix_bt = 0\n",
    "    for inputs, target in loader_train:\n",
    "        inputs = inputs.to(device)\n",
    "        target = target.to(device)\n",
    "        optimizer.zero_grad()\n",
    "\n",
    "        output = model(inputs[:-1, :, :])\n",
    "\n",
    "        loss = loss_fn(output, target[-1,:,:])\n",
    "        loss.backward()\n",
    "        optimizer.step()\n",
    "\n",
    "        loss_train += loss.item()\n",
    "        #print(f\"batch {ix_b}: loss = {loss.item()}\")\n",
    "        ix_bt += 1\n",
    "    \n",
    "    ix_bv = 0\n",
    "    with torch.no_grad():\n",
    "        for inputs, target in loader_valid:\n",
    "            inputs = inputs.to(device)\n",
    "            target = target.to(device)\n",
    "            \n",
    "            output = model(inputs[:-1, :, :])\n",
    "        \n",
    "            loss_valid += loss_fn(output, target[-1, :, :]).item()\n",
    "            ix_bv += 1\n",
    "            \n",
    "    losses_train[epoch] = loss_train / ix_bt / batch_size\n",
    "    losses_valid[epoch] = loss_valid / ix_bv / batch_size\n",
    "    t_end = perf_counter()\n",
    "    t_epoch = t_end - t_start\n",
    "    \n",
    "    \n",
    "    print(f\"Epoch {epoch} took {t_epoch:7.3f}s. train loss = {losses_train[epoch]:8.6e}, valid loss =  {losses_valid[epoch]:8.6e}\")\n",
    "        "
   ]
  },
  {
   "cell_type": "markdown",
   "id": "b817c54d",
   "metadata": {},
   "source": [
    "Look at the performance of the trained model"
   ]
  },
  {
   "cell_type": "code",
   "execution_count": 35,
   "id": "e54a65fe",
   "metadata": {
    "scrolled": false
   },
   "outputs": [
    {
     "ename": "RuntimeError",
     "evalue": "Default process group has not been initialized, please make sure to call init_process_group.",
     "output_type": "error",
     "traceback": [
      "\u001b[0;31m---------------------------------------------------------------------------\u001b[0m",
      "\u001b[0;31mRuntimeError\u001b[0m                              Traceback (most recent call last)",
      "Cell \u001b[0;32mIn[35], line 3\u001b[0m\n\u001b[1;32m      1\u001b[0m \u001b[39mfor\u001b[39;00m ix_shot \u001b[39min\u001b[39;00m \u001b[39mrange\u001b[39m(\u001b[39mlen\u001b[39m(ds_valid)):\n\u001b[1;32m      2\u001b[0m     loader_seq \u001b[39m=\u001b[39m DataLoader(ds_valid\u001b[39m.\u001b[39mshot(ix_shot),\n\u001b[0;32m----> 3\u001b[0m                             batch_sampler\u001b[39m=\u001b[39mBatchedSampler(shot_length_valid[ix_shot], seq_length, batch_size, shuffle\u001b[39m=\u001b[39;49m\u001b[39mFalse\u001b[39;49;00m),\n\u001b[1;32m      4\u001b[0m                             collate_fn\u001b[39m=\u001b[39mcollate_fn_batched())\n\u001b[1;32m      6\u001b[0m     output_pred \u001b[39m=\u001b[39m np\u001b[39m.\u001b[39mzeros(shot_length_valid[ix_shot])\n\u001b[1;32m      7\u001b[0m     output_true \u001b[39m=\u001b[39m np\u001b[39m.\u001b[39mzeros(shot_length_valid[ix_shot])\n",
      "File \u001b[0;32m~/repos/d3d_loaders/d3d_loaders/samplers.py:38\u001b[0m, in \u001b[0;36mBatchedSampler.__init__\u001b[0;34m(self, num_elements, seq_length, batch_size, num_replicas, rank, shuffle, seed)\u001b[0m\n\u001b[1;32m     36\u001b[0m     \u001b[39mif\u001b[39;00m \u001b[39mnot\u001b[39;00m dist\u001b[39m.\u001b[39mis_available():\n\u001b[1;32m     37\u001b[0m         \u001b[39mraise\u001b[39;00m \u001b[39mRuntimeError\u001b[39;00m(\u001b[39m\"\u001b[39m\u001b[39mRequires distributed package to be available\u001b[39m\u001b[39m\"\u001b[39m)\n\u001b[0;32m---> 38\u001b[0m     num_replicas \u001b[39m=\u001b[39m dist\u001b[39m.\u001b[39;49mget_world_size()\n\u001b[1;32m     39\u001b[0m \u001b[39mif\u001b[39;00m rank \u001b[39mis\u001b[39;00m \u001b[39mNone\u001b[39;00m:\n\u001b[1;32m     40\u001b[0m     \u001b[39mif\u001b[39;00m \u001b[39mnot\u001b[39;00m dist\u001b[39m.\u001b[39mis_available():\n",
      "File \u001b[0;32m~/frnn/frnn/lib/python3.9/site-packages/torch/distributed/distributed_c10d.py:1067\u001b[0m, in \u001b[0;36mget_world_size\u001b[0;34m(group)\u001b[0m\n\u001b[1;32m   1064\u001b[0m \u001b[39mif\u001b[39;00m _rank_not_in_group(group):\n\u001b[1;32m   1065\u001b[0m     \u001b[39mreturn\u001b[39;00m \u001b[39m-\u001b[39m\u001b[39m1\u001b[39m\n\u001b[0;32m-> 1067\u001b[0m \u001b[39mreturn\u001b[39;00m _get_group_size(group)\n",
      "File \u001b[0;32m~/frnn/frnn/lib/python3.9/site-packages/torch/distributed/distributed_c10d.py:453\u001b[0m, in \u001b[0;36m_get_group_size\u001b[0;34m(group)\u001b[0m\n\u001b[1;32m    449\u001b[0m \u001b[39m\u001b[39m\u001b[39m\"\"\"\u001b[39;00m\n\u001b[1;32m    450\u001b[0m \u001b[39mHelper that gets a given group's world size.\u001b[39;00m\n\u001b[1;32m    451\u001b[0m \u001b[39m\"\"\"\u001b[39;00m\n\u001b[1;32m    452\u001b[0m \u001b[39mif\u001b[39;00m group \u001b[39mis\u001b[39;00m GroupMember\u001b[39m.\u001b[39mWORLD \u001b[39mor\u001b[39;00m group \u001b[39mis\u001b[39;00m \u001b[39mNone\u001b[39;00m:\n\u001b[0;32m--> 453\u001b[0m     default_pg \u001b[39m=\u001b[39m _get_default_group()\n\u001b[1;32m    454\u001b[0m     \u001b[39mreturn\u001b[39;00m default_pg\u001b[39m.\u001b[39msize()\n\u001b[1;32m    455\u001b[0m \u001b[39mreturn\u001b[39;00m group\u001b[39m.\u001b[39msize()\n",
      "File \u001b[0;32m~/frnn/frnn/lib/python3.9/site-packages/torch/distributed/distributed_c10d.py:584\u001b[0m, in \u001b[0;36m_get_default_group\u001b[0;34m()\u001b[0m\n\u001b[1;32m    580\u001b[0m \u001b[39m\u001b[39m\u001b[39m\"\"\"\u001b[39;00m\n\u001b[1;32m    581\u001b[0m \u001b[39mGetting the default process group created by init_process_group\u001b[39;00m\n\u001b[1;32m    582\u001b[0m \u001b[39m\"\"\"\u001b[39;00m\n\u001b[1;32m    583\u001b[0m \u001b[39mif\u001b[39;00m \u001b[39mnot\u001b[39;00m is_initialized():\n\u001b[0;32m--> 584\u001b[0m     \u001b[39mraise\u001b[39;00m \u001b[39mRuntimeError\u001b[39;00m(\n\u001b[1;32m    585\u001b[0m         \u001b[39m\"\u001b[39m\u001b[39mDefault process group has not been initialized, \u001b[39m\u001b[39m\"\u001b[39m\n\u001b[1;32m    586\u001b[0m         \u001b[39m\"\u001b[39m\u001b[39mplease make sure to call init_process_group.\u001b[39m\u001b[39m\"\u001b[39m\n\u001b[1;32m    587\u001b[0m     )\n\u001b[1;32m    588\u001b[0m \u001b[39mreturn\u001b[39;00m GroupMember\u001b[39m.\u001b[39mWORLD\n",
      "\u001b[0;31mRuntimeError\u001b[0m: Default process group has not been initialized, please make sure to call init_process_group."
     ]
    }
   ],
   "source": [
    "for ix_shot in range(len(ds_valid)):\n",
    "    loader_seq = DataLoader(ds_valid.shot(ix_shot),\n",
    "                            batch_sampler=BatchedSampler(shot_length_valid[ix_shot], seq_length, batch_size, shuffle=False),\n",
    "                            collate_fn=collate_fn_batched())\n",
    "    \n",
    "    output_pred = np.zeros(shot_length_valid[ix_shot])\n",
    "    output_true = np.zeros(shot_length_valid[ix_shot])\n",
    "    for ix, (x, y) in enumerate(loader_seq):\n",
    "        inputs = x.to(device)\n",
    "        output = model(inputs[:-1, :, :])\n",
    "        # Skip partial batches\n",
    "        if output.shape[0] == batch_size:\n",
    "            output_pred[seq_length + (ix * batch_size):seq_length + ((ix + 1) * batch_size)] = output[:, 0].detach().cpu()\n",
    "            output_true[seq_length + (ix * batch_size):seq_length + ((ix + 1) * batch_size)] = y[-1, :, 0].detach().cpu()\n",
    "        \n",
    "    plt.figure()\n",
    "    plt.plot(output_true[seq_length:], label=\"True\")\n",
    "    plt.plot(output_pred[seq_length:], label=\"Predicted\")\n",
    "    plt.title(f\"Shot {ds_valid.shot(ix_shot).shotnr}\")\n",
    "    plt.xlabel(\"time [samples] (1 sample = 1ms)\")\n",
    "    plt.ylabel(\"log(ttd)\")\n",
    "    plt.legend(loc=\"lower left\")\n",
    "    plt.savefig(f\"plots/FRNN_test_LSTM_{ds_valid.shot(ix_shot).shotnr}.png\")"
   ]
  },
  {
   "cell_type": "code",
   "execution_count": null,
   "id": "343dd705",
   "metadata": {},
   "outputs": [],
   "source": []
  }
 ],
 "metadata": {
  "kernelspec": {
   "display_name": "Python 3 (ipykernel)",
   "language": "python",
   "name": "python3"
  },
  "language_info": {
   "codemirror_mode": {
    "name": "ipython",
    "version": 3
   },
   "file_extension": ".py",
   "mimetype": "text/x-python",
   "name": "python",
   "nbconvert_exporter": "python",
   "pygments_lexer": "ipython3",
   "version": "3.9.13"
  }
 },
 "nbformat": 4,
 "nbformat_minor": 5
}
