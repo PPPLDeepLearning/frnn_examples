{
 "cells": [
  {
   "cell_type": "markdown",
   "id": "cd993842",
   "metadata": {},
   "source": [
    "# Use D3D-loader to implement LSTM-style disruption prediction\n",
    "\n",
    "\n",
    "This notebook illustrates how to use an LSTM to predict disruptions.\n",
    "It operates on a dataset that has been compiled using https://github.com/PPPLDeepLearning/dataset_D3D_100\n",
    "The code for the `d3d_loaders` package is here: https://github.com/PlasmaControl/d3d_loaders\n",
    "\n",
    "Note that the interface to `d3d_loaders` is still in flux (as of 2023-03), so some function may be \n",
    "out of date. (Either a different name, or slightly different arguments).\n"
   ]
  },
  {
   "cell_type": "code",
   "execution_count": 1,
   "id": "eebde0ba",
   "metadata": {},
   "outputs": [],
   "source": [
    "from os.path import join \n",
    "import numpy as np\n",
    "import matplotlib.pyplot as plt\n",
    "import yaml\n",
    "import random\n",
    "from time import perf_counter"
   ]
  },
  {
   "cell_type": "code",
   "execution_count": 2,
   "id": "31a348a4",
   "metadata": {},
   "outputs": [],
   "source": [
    "import logging \n",
    "logging.basicConfig(filename=\"FRNN-test.log\",\n",
    "                 filemode='a',\n",
    "                 format='%(asctime)s,%(msecs)d %(name)s %(levelname)s %(message)s',\n",
    "                 datefmt='%H:%M:%S',\n",
    "                 level=logging.DEBUG)"
   ]
  },
  {
   "cell_type": "code",
   "execution_count": 3,
   "id": "ae468c45",
   "metadata": {},
   "outputs": [],
   "source": [
    "import torch\n",
    "import torch.nn as nn\n",
    "import torch.nn.functional as F\n",
    "from torch.autograd import Variable\n",
    "from torch.utils.data import DataLoader"
   ]
  },
  {
   "cell_type": "code",
   "execution_count": 4,
   "id": "ca89dd44",
   "metadata": {},
   "outputs": [],
   "source": [
    "import sys\n",
    "sys.path.append(\"/home/rkube/repos/d3d_loaders\")"
   ]
  },
  {
   "cell_type": "code",
   "execution_count": 5,
   "id": "b0134a28",
   "metadata": {},
   "outputs": [],
   "source": [
    "from d3d_loaders.time_sampling import sampler_causal, sampler_linearip, sampler_space\n",
    "from d3d_loaders.standardizers import standardizer_mean_std\n",
    "from d3d_loaders.d3d_loaders import Multishot_dataset\n",
    "from d3d_loaders.samplers import BatchedSampler, BatchedSampler_multi, collate_fn_batched\n",
    "#from d3d_loaders.samplers import RandomBatchedSampler_multishot, collate_fn_random_batch_seq_multi"
   ]
  },
  {
   "cell_type": "code",
   "execution_count": 6,
   "id": "5a0b3eee",
   "metadata": {},
   "outputs": [],
   "source": [
    "# ML parameters\n",
    "seq_length = 128   # Length of the sequence used to predict the Time-To-Disruption (TTD)\n",
    "batch_size = 16     \n",
    "\n",
    "device = torch.device(\"cuda:0\" if torch.cuda.is_available() else \"cpu\")"
   ]
  },
  {
   "cell_type": "code",
   "execution_count": 7,
   "id": "1c9c0b5d",
   "metadata": {},
   "outputs": [],
   "source": [
    "# Fetch the dataset definition.\n",
    "# The dataset was compiled with the code in\n",
    "# https://github.com/PPPLDeepLearning/dataset_D3D_100\n",
    "datapath = \"/projects/FRNN/dataset_D3D_100/D3D_100\"\n",
    "\n",
    "# fetch dataset definition for list of predictors.\n",
    "with open(join(datapath, \"..\", \"d3d_100.yaml\"), \"r\") as fp:\n",
    "    d3d_100 = yaml.safe_load(fp)"
   ]
  },
  {
   "cell_type": "code",
   "execution_count": 9,
   "id": "fd1c5818",
   "metadata": {},
   "outputs": [],
   "source": [
    "# Next we need to instantiate samplers.\n",
    "# These are used when reading the signal data from HDF5 and resample the raw MDS/PTdata signals\n",
    "# onto a common time-base\n",
    "# Each shot has a different length. We therefore create separate re-samplers for each shot\n",
    "# that will operate on the duration for each specific shot.\n",
    "#\n",
    "# The times t_max and t_min have been calculated when the dataset was instantiated.\n",
    "\n",
    "# Load tmax from yaml\n",
    "with open(join(datapath, \"..\", \"shots_t_min_max.yaml\"), \"r\") as fp:\n",
    "    t_min_max_dict = yaml.safe_load(fp)\n",
    "\n",
    "# The d3d_datasets expects a that the samplers for each shot are passed as a dictionary.\n",
    "sampler_pred_dict = {}\n",
    "sampler_targ_dict = {}\n",
    "\n",
    "# Instantiate the samplers and store in the dict.\n",
    "for shotnr in d3d_100[\"shots\"].keys():\n",
    "    tmin = t_min_max_dict[shotnr][\"tmin\"]\n",
    "    tmax = t_min_max_dict[shotnr][\"tmax\"]\n",
    "    sampler_pred_dict.update({shotnr: sampler_causal(tmin, tmax, 1.0, t_shift=0.0)})\n",
    "    sampler_targ_dict.update({shotnr: sampler_linearip(tmin, tmax, 1.0, t_shift=0.0)})"
   ]
  },
  {
   "cell_type": "code",
   "execution_count": 10,
   "id": "b9f1c7f5",
   "metadata": {},
   "outputs": [
    {
     "name": "stdout",
     "output_type": "stream",
     "text": [
      "q95: - standardizer_mean_std, mean=5.039928436279297, std=1.5716230869293213\n",
      "efsli: - standardizer_mean_std, mean=0.35555943846702576, std=1.857176423072815\n",
      "ipspr15V: - standardizer_mean_std, mean=0.5942406058311462, std=1.3463371992111206\n",
      "efsbetan: - standardizer_mean_std, mean=0.5025940537452698, std=2.617089033126831\n",
      "efswmhd: - standardizer_mean_std, mean=192412.53125, std=336368.1875\n",
      "dssdenest: - standardizer_mean_std, mean=1.5957257747650146, std=2.1213574409484863\n",
      "pradcore: - standardizer_mean_std, mean=0.000497624627314508, std=0.0013699629344046116\n",
      "pradedge: - standardizer_mean_std, mean=0.00027844574651680887, std=0.0006822358118370175\n",
      "bmspinj: - standardizer_mean_std, mean=2996.464599609375, std=3231.459228515625\n",
      "bmstinj: - standardizer_mean_std, mean=2.405306577682495, std=2.611988067626953\n",
      "ipsiptargt: - standardizer_mean_std, mean=1.0042184591293335, std=1.1156623363494873\n",
      "ipeecoil: - standardizer_mean_std, mean=-0.023169364780187607, std=0.18698279559612274\n",
      "edensfit: - standardizer_mean_std, mean=3.132974863052368, std=2.1050822734832764\n",
      "etempfit: - standardizer_mean_std, mean=1.455143928527832, std=1.318780779838562\n"
     ]
    }
   ],
   "source": [
    "# Signals are to be normalized to a mean and standard deviation that is calculated over all shots\n",
    "# in the dataset. Again, these have been calculated during dataset instantiation and stored in a yaml file.\n",
    "# Here we only need to read the results from that file and instantiate a standardizer for each predictor.\n",
    "  \n",
    "norm_dict = {}\n",
    "with open(join(datapath, \"..\", \"normalization.yaml\"), \"r\") as fp:\n",
    "    normalization = yaml.safe_load(fp)\n",
    "\n",
    "for k, v in normalization.items():\n",
    "    norm_dict[k] = standardizer_mean_std(v[\"mean\"], v[\"std\"])\n",
    "    \n",
    "# See if normalizers exists for each predictor\n",
    "for k in d3d_100[\"predictors\"]:\n",
    "    print(f\"{k}: - {norm_dict[k]}\")"
   ]
  },
  {
   "cell_type": "code",
   "execution_count": 12,
   "id": "897a4560",
   "metadata": {},
   "outputs": [],
   "source": [
    "# Instantiate a sampler for the profiles.\n",
    "# This will re-sample edensfit and etempfit on psi=[0.0, 1.0] with 32 points\n",
    "\n",
    "ip_profile = sampler_space(np.linspace(0.0, 1.0, 32, dtype=np.float32))"
   ]
  },
  {
   "cell_type": "code",
   "execution_count": 18,
   "id": "ad2962d4",
   "metadata": {},
   "outputs": [],
   "source": [
    "# To a random test/train split over the shots.\n",
    "shot_list = list(d3d_100[\"shots\"].keys())\n",
    "random.shuffle(shot_list)\n",
    "\n",
    "# Split\n",
    "num_shots = len(shot_list)\n",
    "num_train = 50\n",
    "num_valid = 10\n",
    "\n",
    "shots_train = shot_list[:num_train]\n",
    "shots_valid = shot_list[num_train:num_train + num_valid]"
   ]
  },
  {
   "cell_type": "code",
   "execution_count": 19,
   "id": "ee73da9e",
   "metadata": {},
   "outputs": [],
   "source": [
    "# Create the training set. This fetches all signals for all shots from HDF5 files and loads them\n",
    "# into memory (torch.device(\"cpu\")). Pass the previously instantiated samplers and standardizers\n",
    "# to resample and normalize the raw signals that are stored in HDF5 files. The data in memory is then\n",
    "# resampled and normalized.\n",
    "ds_train = Multishot_dataset(shots_train, d3d_100[\"predictors\"], [\"ttd\"],\n",
    "                             sampler_pred_dict, sampler_targ_dict, ip_profile, norm_dict, datapath, torch.device(\"cpu\"))\n"
   ]
  },
  {
   "cell_type": "code",
   "execution_count": 20,
   "id": "af41d5f7",
   "metadata": {},
   "outputs": [
    {
     "name": "stdout",
     "output_type": "stream",
     "text": [
      "shot 167618, length: 5700\n",
      "shot 167523, length: 5780\n",
      "shot 167587, length: 4972\n",
      "shot 167586, length: 2867\n",
      "shot 167524, length: 5780\n",
      "shot 167619, length: 4816\n",
      "shot 167492, length: 6988\n",
      "shot 167601, length: 4400\n",
      "shot 167612, length: 4674\n",
      "shot 167527, length: 5620\n",
      "shot 167528, length: 5740\n",
      "shot 167485, length: 6020\n",
      "shot 167555, length: 6040\n",
      "shot 167563, length: 5800\n",
      "shot 167556, length: 5225\n",
      "shot 167561, length: 3328\n",
      "shot 167484, length: 5960\n",
      "shot 167621, length: 4490\n",
      "shot 167589, length: 5520\n",
      "shot 167565, length: 2704\n",
      "shot 167607, length: 6280\n",
      "shot 167562, length: 3731\n",
      "shot 167482, length: 5940\n",
      "shot 167553, length: 3600\n",
      "shot 167603, length: 6220\n",
      "shot 167535, length: 5740\n",
      "shot 167487, length: 1999\n",
      "shot 167617, length: 4000\n",
      "shot 167593, length: 5421\n",
      "shot 167537, length: 5760\n",
      "shot 167577, length: 3800\n",
      "shot 167566, length: 2633\n",
      "shot 167611, length: 2436\n",
      "shot 167493, length: 6280\n",
      "shot 167529, length: 5760\n",
      "shot 167614, length: 4667\n",
      "shot 167558, length: 5122\n",
      "shot 167525, length: 5740\n",
      "shot 167564, length: 2540\n",
      "shot 167557, length: 5163\n",
      "shot 167568, length: 2680\n",
      "shot 167506, length: 6280\n",
      "shot 167576, length: 3500\n",
      "shot 167597, length: 2018\n",
      "shot 167613, length: 519\n",
      "shot 167598, length: 1867\n",
      "shot 167496, length: 6279\n",
      "shot 167590, length: 4976\n",
      "shot 167595, length: 3150\n",
      "shot 167526, length: 5780\n"
     ]
    }
   ],
   "source": [
    "# Print out info on the shots and lengths of the training set\n",
    "shot_length_train = []\n",
    "for ix, shotnr in enumerate(shots_train):\n",
    "    shot_length_train.append(ds_train.shot(ix).__len__())\n",
    "    print(f\"shot {shotnr}, length: {shot_length_train[-1]}\")"
   ]
  },
  {
   "cell_type": "code",
   "execution_count": 21,
   "id": "f7490e79",
   "metadata": {},
   "outputs": [],
   "source": [
    "# Create the validation set in the same manner as the training set\n",
    "ds_valid = Multishot_dataset(shots_valid, d3d_100[\"predictors\"], [\"ttd\"],\n",
    "                             sampler_pred_dict, sampler_targ_dict, norm_dict, datapath, torch.device(\"cpu\"))"
   ]
  },
  {
   "cell_type": "code",
   "execution_count": 22,
   "id": "bdd13c2b",
   "metadata": {},
   "outputs": [
    {
     "name": "stdout",
     "output_type": "stream",
     "text": [
      "shot 167494, length: 3378\n",
      "shot 167578, length: 5120\n",
      "shot 167516, length: 6160\n",
      "shot 167532, length: 5680\n",
      "shot 167531, length: 5740\n",
      "shot 167502, length: 6260\n",
      "shot 167569, length: 2520\n",
      "shot 167571, length: 3180\n",
      "shot 167519, length: 5940\n",
      "shot 167542, length: 6220\n"
     ]
    }
   ],
   "source": [
    "# Print info on validation set\n",
    "shot_length_valid = []\n",
    "for ix, shotnr in enumerate(shots_valid):\n",
    "    shot_length_valid.append(ds_valid.shot(ix).__len__())\n",
    "    print(f\"shot {shotnr}, length: {shot_length_valid[-1]}\")"
   ]
  },
  {
   "cell_type": "code",
   "execution_count": 23,
   "id": "81e1b4d8",
   "metadata": {},
   "outputs": [
    {
     "data": {
      "text/plain": [
       "Text(0, 0.5, 'log10(TTD)')"
      ]
     },
     "execution_count": 23,
     "metadata": {},
     "output_type": "execute_result"
    },
    {
     "data": {
      "image/png": "[encoded data removed]",
      "text/plain": [
       "<Figure size 640x480 with 2 Axes>"
      ]
     },
     "metadata": {},
     "output_type": "display_data"
    }
   ],
   "source": [
    "# Plot TTD target for test and validation sets\n",
    "fig = plt.figure()\n",
    "ax_tr = fig.add_axes([0.2, 0.2, 0.75, 0.375])\n",
    "ax_vl = fig.add_axes([0.2, 0.575, 0.75, 0.375])\n",
    "\n",
    "\n",
    "for ix_shot in range(len(ds_train.datasets)):\n",
    "    ax_tr.plot(ds_train.shot(ix_shot).targets[\"ttd\"].data)\n",
    "    \n",
    "for ix_shot in range(len(ds_valid.datasets)):\n",
    "    ax_vl.plot(ds_valid.shot(ix_shot).targets[\"ttd\"].data)\n",
    "    \n",
    "ax_tr.set_xlabel(\"time [sample] (1sample=1ms)\")\n",
    "ax_tr.set_ylabel(\"log10(TTD)\")\n",
    "ax_vl.set_ylabel(\"log10(TTD)\")"
   ]
  },
  {
   "cell_type": "code",
   "execution_count": 24,
   "id": "1f639aba",
   "metadata": {},
   "outputs": [
    {
     "ename": "RuntimeError",
     "evalue": "Default process group has not been initialized, please make sure to call init_process_group.",
     "output_type": "error",
     "traceback": [
      "\u001b[0;31m---------------------------------------------------------------------------\u001b[0m",
      "\u001b[0;31mRuntimeError\u001b[0m                              Traceback (most recent call last)",
      "Cell \u001b[0;32mIn[24], line 5\u001b[0m\n\u001b[1;32m      1\u001b[0m \u001b[38;5;66;03m# Instantiate a loader for the training set.\u001b[39;00m\n\u001b[1;32m      2\u001b[0m \u001b[38;5;66;03m# This loader picks 'batch_size' sequences of size seq_length+1 at random starting points, distributed across shots.\u001b[39;00m\n\u001b[1;32m      3\u001b[0m \u001b[38;5;66;03m# Use shuffle=True to shuffle the dataset. Note that the sampler sets a seed for shuffling. During training\u001b[39;00m\n\u001b[1;32m      4\u001b[0m \u001b[38;5;66;03m# we have to manually set the seed so that the shuffling will be different in every epoch\u001b[39;00m\n\u001b[0;32m----> 5\u001b[0m sampler_train \u001b[38;5;241m=\u001b[39m \u001b[43mBatchedSampler_multi\u001b[49m\u001b[43m(\u001b[49m\u001b[43mshot_length_train\u001b[49m\u001b[43m,\u001b[49m\u001b[43m \u001b[49m\u001b[43mseq_length\u001b[49m\u001b[43m,\u001b[49m\u001b[43m \u001b[49m\u001b[43mbatch_size\u001b[49m\u001b[43m,\u001b[49m\u001b[43m \u001b[49m\u001b[43mshuffle\u001b[49m\u001b[38;5;241;43m=\u001b[39;49m\u001b[38;5;28;43;01mTrue\u001b[39;49;00m\u001b[43m)\u001b[49m\n\u001b[1;32m      7\u001b[0m loader_train \u001b[38;5;241m=\u001b[39m DataLoader(ds_train,\n\u001b[1;32m      8\u001b[0m                           batch_sampler\u001b[38;5;241m=\u001b[39msampler_train, \n\u001b[1;32m      9\u001b[0m                           collate_fn\u001b[38;5;241m=\u001b[39mcollate_fn_batched())\n",
      "File \u001b[0;32m~/repos/d3d_loaders/d3d_loaders/samplers.py:94\u001b[0m, in \u001b[0;36mBatchedSampler_multi.__init__\u001b[0;34m(self, num_elements, seq_length, batch_size, num_replicas, rank, shuffle, seed)\u001b[0m\n\u001b[1;32m     92\u001b[0m     \u001b[38;5;28;01mif\u001b[39;00m \u001b[38;5;129;01mnot\u001b[39;00m dist\u001b[38;5;241m.\u001b[39mis_available():\n\u001b[1;32m     93\u001b[0m         \u001b[38;5;28;01mraise\u001b[39;00m \u001b[38;5;167;01mRuntimeError\u001b[39;00m(\u001b[38;5;124m\"\u001b[39m\u001b[38;5;124mRequires distributed package to be available\u001b[39m\u001b[38;5;124m\"\u001b[39m)\n\u001b[0;32m---> 94\u001b[0m     num_replicas \u001b[38;5;241m=\u001b[39m \u001b[43mdist\u001b[49m\u001b[38;5;241;43m.\u001b[39;49m\u001b[43mget_world_size\u001b[49m\u001b[43m(\u001b[49m\u001b[43m)\u001b[49m\n\u001b[1;32m     95\u001b[0m \u001b[38;5;28;01mif\u001b[39;00m rank \u001b[38;5;129;01mis\u001b[39;00m \u001b[38;5;28;01mNone\u001b[39;00m:\n\u001b[1;32m     96\u001b[0m     \u001b[38;5;28;01mif\u001b[39;00m \u001b[38;5;129;01mnot\u001b[39;00m dist\u001b[38;5;241m.\u001b[39mis_available():\n",
      "File \u001b[0;32m~/frnn/frnn/lib/python3.9/site-packages/torch/distributed/distributed_c10d.py:1067\u001b[0m, in \u001b[0;36mget_world_size\u001b[0;34m(group)\u001b[0m\n\u001b[1;32m   1064\u001b[0m \u001b[38;5;28;01mif\u001b[39;00m _rank_not_in_group(group):\n\u001b[1;32m   1065\u001b[0m     \u001b[38;5;28;01mreturn\u001b[39;00m \u001b[38;5;241m-\u001b[39m\u001b[38;5;241m1\u001b[39m\n\u001b[0;32m-> 1067\u001b[0m \u001b[38;5;28;01mreturn\u001b[39;00m \u001b[43m_get_group_size\u001b[49m\u001b[43m(\u001b[49m\u001b[43mgroup\u001b[49m\u001b[43m)\u001b[49m\n",
      "File \u001b[0;32m~/frnn/frnn/lib/python3.9/site-packages/torch/distributed/distributed_c10d.py:453\u001b[0m, in \u001b[0;36m_get_group_size\u001b[0;34m(group)\u001b[0m\n\u001b[1;32m    449\u001b[0m \u001b[38;5;250m\u001b[39m\u001b[38;5;124;03m\"\"\"\u001b[39;00m\n\u001b[1;32m    450\u001b[0m \u001b[38;5;124;03mHelper that gets a given group's world size.\u001b[39;00m\n\u001b[1;32m    451\u001b[0m \u001b[38;5;124;03m\"\"\"\u001b[39;00m\n\u001b[1;32m    452\u001b[0m \u001b[38;5;28;01mif\u001b[39;00m group \u001b[38;5;129;01mis\u001b[39;00m GroupMember\u001b[38;5;241m.\u001b[39mWORLD \u001b[38;5;129;01mor\u001b[39;00m group \u001b[38;5;129;01mis\u001b[39;00m \u001b[38;5;28;01mNone\u001b[39;00m:\n\u001b[0;32m--> 453\u001b[0m     default_pg \u001b[38;5;241m=\u001b[39m \u001b[43m_get_default_group\u001b[49m\u001b[43m(\u001b[49m\u001b[43m)\u001b[49m\n\u001b[1;32m    454\u001b[0m     \u001b[38;5;28;01mreturn\u001b[39;00m default_pg\u001b[38;5;241m.\u001b[39msize()\n\u001b[1;32m    455\u001b[0m \u001b[38;5;28;01mreturn\u001b[39;00m group\u001b[38;5;241m.\u001b[39msize()\n",
      "File \u001b[0;32m~/frnn/frnn/lib/python3.9/site-packages/torch/distributed/distributed_c10d.py:584\u001b[0m, in \u001b[0;36m_get_default_group\u001b[0;34m()\u001b[0m\n\u001b[1;32m    580\u001b[0m \u001b[38;5;250m\u001b[39m\u001b[38;5;124;03m\"\"\"\u001b[39;00m\n\u001b[1;32m    581\u001b[0m \u001b[38;5;124;03mGetting the default process group created by init_process_group\u001b[39;00m\n\u001b[1;32m    582\u001b[0m \u001b[38;5;124;03m\"\"\"\u001b[39;00m\n\u001b[1;32m    583\u001b[0m \u001b[38;5;28;01mif\u001b[39;00m \u001b[38;5;129;01mnot\u001b[39;00m is_initialized():\n\u001b[0;32m--> 584\u001b[0m     \u001b[38;5;28;01mraise\u001b[39;00m \u001b[38;5;167;01mRuntimeError\u001b[39;00m(\n\u001b[1;32m    585\u001b[0m         \u001b[38;5;124m\"\u001b[39m\u001b[38;5;124mDefault process group has not been initialized, \u001b[39m\u001b[38;5;124m\"\u001b[39m\n\u001b[1;32m    586\u001b[0m         \u001b[38;5;124m\"\u001b[39m\u001b[38;5;124mplease make sure to call init_process_group.\u001b[39m\u001b[38;5;124m\"\u001b[39m\n\u001b[1;32m    587\u001b[0m     )\n\u001b[1;32m    588\u001b[0m \u001b[38;5;28;01mreturn\u001b[39;00m GroupMember\u001b[38;5;241m.\u001b[39mWORLD\n",
      "\u001b[0;31mRuntimeError\u001b[0m: Default process group has not been initialized, please make sure to call init_process_group."
     ]
    }
   ],
   "source": [
    "# Instantiate a loader for the training set.\n",
    "# This loader picks 'batch_size' sequences of size seq_length+1 at random starting points, distributed across shots.\n",
    "# Use shuffle=True to shuffle the dataset. Note that the sampler sets a seed for shuffling. During training\n",
    "# we have to manually set the seed so that the shuffling will be different in every epoch\n",
    "sampler_train = BatchedSampler_multi(shot_length_train, seq_length, batch_size, shuffle=True)\n",
    "\n",
    "loader_train = DataLoader(ds_train,\n",
    "                          batch_sampler=sampler_train, \n",
    "                          collate_fn=collate_fn_batched())"
   ]
  },
  {
   "cell_type": "code",
   "execution_count": null,
   "id": "6ee23087",
   "metadata": {},
   "outputs": [],
   "source": [
    "# Verify that we can iterate over all sequences and print timing info. Print out info on the shape of\n",
    "# the returned tensors in the first epoch.\n",
    "# Dimemsions should be [seq_length+1, batch_size, number_of_predictors] for x\n",
    "# and [seq_length+1, batch_size, number_of_targets] for y.\n",
    "# Number of predictors len(d3d_100[\"predictors\"]), since each predictor only has one channel.\n",
    "# Number of targets is 1, since we only predict 'ttd'\n",
    "out = True\n",
    "t_start = perf_counter()\n",
    "for x, y in loader_train:\n",
    "    if out:\n",
    "        print(x.shape, y.shape, type(x), x.dtype, type(y), y.dtype)\n",
    "        out = False\n",
    "    continue\n",
    "t_end = perf_counter()\n",
    "print(f\"1 iteration over dataset takes {(t_end - t_start):7.3f}s\")"
   ]
  },
  {
   "cell_type": "code",
   "execution_count": null,
   "id": "2980b1aa",
   "metadata": {},
   "outputs": [],
   "source": [
    "sampler_valid = BatchedSampler_multi(shot_length_valid, seq_length, batch_size, shuffle=True)\n",
    "\n",
    "loader_valid = DataLoader(ds_valid,\n",
    "                          batch_sampler=sampler_valid,\n",
    "                          collate_fn=collate_fn_batched())"
   ]
  },
  {
   "cell_type": "code",
   "execution_count": null,
   "id": "1fe3e911",
   "metadata": {},
   "outputs": [],
   "source": [
    "out = True\n",
    "t_start = perf_counter()\n",
    "\n",
    "for x, y in loader_valid:\n",
    "    if out:\n",
    "        print(x.shape, y.shape, type(x), x.dtype, type(y), y.dtype)\n",
    "        out = False\n",
    "    continue\n",
    "t_end = perf_counter()\n",
    "print(f\"1 iteration over validation dataset takes {(t_end - t_start):7.3f}s\")"
   ]
  },
  {
   "cell_type": "code",
   "execution_count": null,
   "id": "aaa7fa43",
   "metadata": {},
   "outputs": [],
   "source": [
    "# Define a simple LSTM model\n",
    "\n",
    "class my_lstm(nn.Module):\n",
    "    def __init__(self, num_classes, input_size, hidden_size, seq_length, num_layers=2):\n",
    "        super(my_lstm, self).__init__()\n",
    "        self.num_classes = num_classes  # Number of output features\n",
    "        self.input_size = input_size    # Number of features in the input x\n",
    "        self.hidden_size = hidden_size  # Number of features in hidden state h\n",
    "        self.seq_length = seq_length  \n",
    "        self.num_layers = num_layers\n",
    "        self.device = device\n",
    "        \n",
    "        self.lstm = nn.LSTM(input_size=self.input_size, \n",
    "                            hidden_size=self.hidden_size,\n",
    "                            num_layers=self.num_layers, \n",
    "                            batch_first=False) #lstm\n",
    "        self.fc_1 =  nn.Linear(hidden_size, 128) #fully connected 1\n",
    "        self.fc_2 = nn.Linear(128, num_classes) #fully connected last layer\n",
    "\n",
    "        self.relu = nn.ReLU()\n",
    "    \n",
    "    def forward(self, x):\n",
    "        h_0 = Variable(torch.zeros(self.num_layers, x.size(1), self.hidden_size)).to(device) #hidden state\n",
    "        c_0 = Variable(torch.zeros(self.num_layers, x.size(1), self.hidden_size)).to(device) #internal state\n",
    "        # Propagate input through LSTM\n",
    "        output, (hn, cn) = self.lstm(x, (h_0, c_0)) #lstm with input, hidden, and internal state\n",
    "        \n",
    "        hn = hn[-1, ...]    # Take output of the last hidden recurrent layer\n",
    "        out = self.relu(hn)\n",
    "        out = self.fc_1(out) #first Dense\n",
    "        out = self.relu(out) #relu\n",
    "        out = self.fc_2(out)  # Final Output\n",
    "        return out"
   ]
  },
  {
   "cell_type": "code",
   "execution_count": null,
   "id": "bf9cf21c",
   "metadata": {},
   "outputs": [],
   "source": [
    "# Instantiate the model. num_classes=1, since the output is a 1d sequence (the TTD).\n",
    "# input_size is just the number of predictors (remember, 1 channel per predictor)\n",
    "model = my_lstm(1, len(d3d_100[\"predictors\"]), hidden_size=128, seq_length=seq_length, num_layers=4).to(device)\n",
    "\n",
    "# Calculate parameters\n",
    "n_param = 0\n",
    "for param in model.parameters():\n",
    "    n_param += param.nelement()\n",
    "print(f\"{n_param} parameters\")"
   ]
  },
  {
   "cell_type": "code",
   "execution_count": null,
   "id": "7fd335b1",
   "metadata": {},
   "outputs": [],
   "source": [
    "# Create a loss function and optimizer\n",
    "loss_fn = nn.MSELoss()\n",
    "optimizer = torch.optim.Adam(model.parameters(), lr=5e-4)"
   ]
  },
  {
   "cell_type": "code",
   "execution_count": null,
   "id": "737f7aaf",
   "metadata": {},
   "outputs": [],
   "source": [
    "# Train the model. This uses about 15-40% GPU on a single A100, depending on the size of the model.\n",
    "\n",
    "num_epochs = 20\n",
    "\n",
    "losses_train = np.zeros(num_epochs)\n",
    "losses_valid = np.zeros(num_epochs)\n",
    "\n",
    "for epoch in range(num_epochs):\n",
    "    # Remember to update the epoch of the samplers to use a new seed for sample shuffling\n",
    "    sampler_train.set_epoch(epoch)\n",
    "    sampler_valid.set_epoch(epoch)\n",
    "\n",
    "    t_start = perf_counter()\n",
    "    model.train()\n",
    "\n",
    "    loss_train = 0.0\n",
    "    loss_valid = 0.0\n",
    "    ix_bt = 0\n",
    "    for inputs, target in loader_train:\n",
    "        inputs = inputs.to(device)\n",
    "        target = target.to(device)\n",
    "        optimizer.zero_grad()\n",
    "\n",
    "        output = model(inputs[:-1, :, :])\n",
    "\n",
    "        loss = loss_fn(output, target[-1,:,:])\n",
    "        loss.backward()\n",
    "        optimizer.step()\n",
    "\n",
    "        loss_train += loss.item()\n",
    "        #print(f\"batch {ix_b}: loss = {loss.item()}\")\n",
    "        ix_bt += 1\n",
    "    \n",
    "    ix_bv = 0\n",
    "    with torch.no_grad():\n",
    "        for inputs, target in loader_valid:\n",
    "            inputs = inputs.to(device)\n",
    "            target = target.to(device)\n",
    "            \n",
    "            output = model(inputs[:-1, :, :])\n",
    "        \n",
    "            loss_valid += loss_fn(output, target[-1, :, :]).item()\n",
    "            ix_bv += 1\n",
    "            \n",
    "    losses_train[epoch] = loss_train / ix_bt / batch_size\n",
    "    losses_valid[epoch] = loss_valid / ix_bv / batch_size\n",
    "    t_end = perf_counter()\n",
    "    t_epoch = t_end - t_start\n",
    "    \n",
    "    \n",
    "    print(f\"Epoch {epoch} took {t_epoch:7.3f}s. train loss = {losses_train[epoch]:8.6e}, valid loss =  {losses_valid[epoch]:8.6e}\")\n",
    "        "
   ]
  },
  {
   "cell_type": "markdown",
   "id": "b817c54d",
   "metadata": {},
   "source": [
    "Look at the performance of the trained model"
   ]
  },
  {
   "cell_type": "code",
   "execution_count": null,
   "id": "e54a65fe",
   "metadata": {
    "scrolled": false
   },
   "outputs": [],
   "source": [
    "for ix_shot in range(len(ds_valid)):\n",
    "    loader_seq = DataLoader(ds_valid.shot(ix_shot),\n",
    "                            batch_sampler=BatchedSampler(shot_length_valid[ix_shot], seq_length, batch_size, shuffle=False),\n",
    "                            collate_fn=collate_fn_batched())\n",
    "    \n",
    "    output_pred = np.zeros(shot_length_valid[ix_shot])\n",
    "    output_true = np.zeros(shot_length_valid[ix_shot])\n",
    "    for ix, (x, y) in enumerate(loader_seq):\n",
    "        inputs = x.to(device)\n",
    "        output = model(inputs[:-1, :, :])\n",
    "        # Skip partial batches\n",
    "        if output.shape[0] == batch_size:\n",
    "            output_pred[seq_length + (ix * batch_size):seq_length + ((ix + 1) * batch_size)] = output[:, 0].detach().cpu()\n",
    "            output_true[seq_length + (ix * batch_size):seq_length + ((ix + 1) * batch_size)] = y[-1, :, 0].detach().cpu()\n",
    "        \n",
    "    plt.figure()\n",
    "    plt.plot(output_true[seq_length:], label=\"True\")\n",
    "    plt.plot(output_pred[seq_length:], label=\"Predicted\")\n",
    "    plt.title(f\"Shot {ds_valid.shot(ix_shot).shotnr}\")\n",
    "    plt.xlabel(\"time [samples] (1 sample = 1ms)\")\n",
    "    plt.ylabel(\"log(ttd)\")\n",
    "    plt.legend(loc=\"lower left\")\n",
    "    plt.savefig(f\"plots/FRNN_test_LSTM_{ds_valid.shot(ix_shot).shotnr}.png\")"
   ]
  },
  {
   "cell_type": "code",
   "execution_count": null,
   "id": "343dd705",
   "metadata": {},
   "outputs": [],
   "source": []
  }
 ],
 "metadata": {
  "kernelspec": {
   "display_name": "Python 3 (ipykernel)",
   "language": "python",
   "name": "python3"
  },
  "language_info": {
   "codemirror_mode": {
    "name": "ipython",
    "version": 3
   },
   "file_extension": ".py",
   "mimetype": "text/x-python",
   "name": "python",
   "nbconvert_exporter": "python",
   "pygments_lexer": "ipython3",
   "version": "3.9.13"
  }
 },
 "nbformat": 4,
 "nbformat_minor": 5
}
