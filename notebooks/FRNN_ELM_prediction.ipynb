{
 "cells": [
  {
   "attachments": {},
   "cell_type": "markdown",
   "metadata": {},
   "source": [
    "# Try ELM prediction on D3D_ELM dataset\n",
    "\n",
    "This notebook illustrates how to use an LSTM to ELM prediction\n",
    "It operates on a dataset that has been compiled using https://github.com/PPPLDeepLearning/dataset_ELM_full\n",
    "The code for the `d3d_loaders` package is here: https://github.com/PlasmaControl/d3d_loaders\n",
    "\n",
    "Note that the interface to `d3d_loaders` is still in flux (as of 2023-03), so some function may be \n",
    "out of date. (Either a different name, or slightly different arguments).\n",
    "\n",
    "\n",
    "As of now, only the last 10 shots have been used when running `/projects/FRNN/dataset_ELM_full/instantiate.sh`\n",
    "Re-run instantiate with all the `[-10:]` that are sprinkled in everywhere and you should get the\n",
    "full dataset.\n",
    "\n",
    "\n",
    "## NOTHING HERE HAS BEEN VALIDATED AS OF 03/30/2023\n",
    "(RK): The only thing I checked is if the notebook runs. Please check if the input data\n",
    "signals are useful, if the shots are selected correctly etc.\n"
   ]
  },
  {
   "cell_type": "code",
   "execution_count": 1,
   "metadata": {},
   "outputs": [],
   "source": [
    "from os.path import join \n",
    "import numpy as np\n",
    "import matplotlib.pyplot as plt\n",
    "import yaml\n",
    "import h5py\n",
    "import random\n",
    "from time import perf_counter"
   ]
  },
  {
   "cell_type": "code",
   "execution_count": 2,
   "metadata": {},
   "outputs": [],
   "source": [
    "import logging \n",
    "logging.basicConfig(filename=\"FRNN-ELM-prediction.log\",\n",
    "                 filemode='a',\n",
    "                 format='%(asctime)s,%(msecs)d %(name)s %(levelname)s %(message)s',\n",
    "                 datefmt='%H:%M:%S',\n",
    "                 level=logging.DEBUG)"
   ]
  },
  {
   "cell_type": "code",
   "execution_count": 3,
   "metadata": {},
   "outputs": [],
   "source": [
    "import torch\n",
    "import torch.nn as nn\n",
    "import torch.nn.functional as F\n",
    "from torch.autograd import Variable\n",
    "from torch.utils.data import DataLoader"
   ]
  },
  {
   "cell_type": "code",
   "execution_count": 4,
   "metadata": {},
   "outputs": [],
   "source": [
    "import sys\n",
    "sys.path.append(\"/home/rkube/repos/d3d_loaders\")"
   ]
  },
  {
   "cell_type": "code",
   "execution_count": 5,
   "metadata": {},
   "outputs": [],
   "source": [
    "from d3d_loaders.time_sampling import sampler_causal, sampler_linearip, sampler_space\n",
    "from d3d_loaders.standardizers import standardizer_mean_std\n",
    "from d3d_loaders.d3d_loaders import Multishot_dataset\n",
    "from d3d_loaders.samplers import BatchedSampler, BatchedSampler_multi, collate_fn_batched"
   ]
  },
  {
   "cell_type": "code",
   "execution_count": 6,
   "metadata": {},
   "outputs": [],
   "source": [
    "# ML parameters\n",
    "seq_length = 128   # Length of the sequence used to predict the Time-To-Disruption (TTD)\n",
    "batch_size = 16     \n",
    "\n",
    "device = torch.device(\"cuda:0\" if torch.cuda.is_available() else \"cpu\")"
   ]
  },
  {
   "cell_type": "code",
   "execution_count": 7,
   "metadata": {},
   "outputs": [],
   "source": [
    "# Fetch the dataset definition.\n",
    "# The dataset was compiled with the code in\n",
    "# https://github.com/PPPLDeepLearning/dataset_ELM_full\n",
    "# So far, only the last 10 shots are downloaded\n",
    "datapath = \"/projects/FRNN/dataset_ELM_full/dataset\"\n",
    "\n",
    "# fetch dataset definition for list of predictors.\n",
    "with open(join(datapath, \"..\", \"dataset.yaml\"), \"r\") as fp:\n",
    "    dataset = yaml.safe_load(fp)"
   ]
  },
  {
   "cell_type": "code",
   "execution_count": 8,
   "metadata": {},
   "outputs": [],
   "source": [
    "# Next we need to instantiate samplers.\n",
    "# These are used when reading the signal data from HDF5 and resample the raw MDS/PTdata signals\n",
    "# onto a common time-base\n",
    "# Each shot has a different length. We therefore create separate re-samplers for each shot\n",
    "# that will operate on the duration for each specific shot.\n",
    "#\n",
    "# The times t_max and t_min have been calculated when the dataset was instantiated.\n",
    "\n",
    "# Load tmax from yaml\n",
    "with open(join(datapath, \"..\", \"shots_t_min_max.yaml\"), \"r\") as fp:\n",
    "    t_min_max_dict = yaml.safe_load(fp)\n",
    "\n",
    "# The d3d_datasets expects a that the samplers for each shot are passed as a dictionary.\n",
    "sampler_pred_dict = {}\n",
    "sampler_targ_dict = {}\n",
    "\n",
    "# Instantiate the samplers and store in the dict.\n",
    "for shotnr in dataset[\"shots\"][-10:]:\n",
    "    tmin = t_min_max_dict[shotnr][\"tmin\"]\n",
    "    tmax = t_min_max_dict[shotnr][\"tmax\"]\n",
    "    sampler_pred_dict.update({shotnr: sampler_causal(tmin, tmax, 1.0, t_shift=0.0)})\n",
    "    sampler_targ_dict.update({shotnr: sampler_linearip(tmin, tmax, 1.0, t_shift=0.0)})"
   ]
  },
  {
   "cell_type": "code",
   "execution_count": 9,
   "metadata": {},
   "outputs": [
    {
     "name": "stdout",
     "output_type": "stream",
     "text": [
      "bmspinj: - standardizer_mean_std, mean=1169.182861328125, std=1194.6673583984375\n",
      "bmstinj: - standardizer_mean_std, mean=1.0939099788665771, std=1.118424415588379\n",
      "dssdenest: - standardizer_mean_std, mean=1.0103323459625244, std=1.0006935596466064\n",
      "edensfit: - standardizer_mean_std, mean=1.7560621500015259, std=1.0492308139801025\n",
      "efsbetan: - standardizer_mean_std, mean=0.27811330556869507, std=0.36982497572898865\n",
      "efsli: - standardizer_mean_std, mean=0.5116583108901978, std=0.668502926826477\n",
      "efswmhd: - standardizer_mean_std, mean=83739.5625, std=116632.0078125\n",
      "etempfit: - standardizer_mean_std, mean=0.9828575849533081, std=0.9232432842254639\n",
      "fs07: - standardizer_mean_std, mean=1.1474191962341376e+16, std=inf\n",
      "ipeecoil: - standardizer_mean_std, mean=-0.06376415491104126, std=0.29224151372909546\n",
      "ipsiptargt: - standardizer_mean_std, mean=0.9258556962013245, std=0.9238914251327515\n",
      "ipspr15V: - standardizer_mean_std, mean=0.8620915412902832, std=0.9111335277557373\n",
      "iptdirect: - standardizer_mean_std, mean=1.0, std=0.0\n",
      "itempfit: - standardizer_mean_std, mean=0.946587324142456, std=0.7321829795837402\n",
      "n1rms: - standardizer_mean_std, mean=0.18916869163513184, std=0.4504968822002411\n",
      "pradcore: - standardizer_mean_std, mean=0.00017571701027918607, std=0.000411096028983593\n",
      "pradedge: - standardizer_mean_std, mean=0.00019589709700085223, std=0.00033508508931845427\n",
      "prmtan_neped: - standardizer_mean_std, mean=1.299919392268406e+19, std=inf\n",
      "prmtan_newid: - standardizer_mean_std, mean=0.14543449878692627, std=0.13668935000896454\n",
      "prmtan_peped: - standardizer_mean_std, mean=0.5389863848686218, std=0.4398847818374634\n",
      "prmtan_teped: - standardizer_mean_std, mean=238.11215209960938, std=199.5616455078125\n",
      "prmtan_tewid: - standardizer_mean_std, mean=238.11215209960938, std=199.5616455078125\n",
      "q95: - standardizer_mean_std, mean=5.666021347045898, std=1.7737137079238892\n",
      "ts_core_dens: - standardizer_mean_std, mean=3.9811911415664476e+18, std=inf\n",
      "ts_core_temp: - standardizer_mean_std, mean=142.48133850097656, std=366.9325866699219\n",
      "zdensfit: - standardizer_mean_std, mean=0.033550940454006195, std=0.018524475395679474\n"
     ]
    }
   ],
   "source": [
    "# Signals are to be normalized to a mean and standard deviation that is calculated over all shots\n",
    "# in the dataset. Again, these have been calculated during dataset instantiation and stored in a yaml file.\n",
    "# Here we only need to read the results from that file and instantiate a standardizer for each predictor.\n",
    "  \n",
    "norm_dict = {}\n",
    "with open(join(datapath, \"..\", \"normalization.yaml\"), \"r\") as fp:\n",
    "    normalization = yaml.safe_load(fp)\n",
    "\n",
    "for k, v in normalization.items():\n",
    "    norm_dict[k] = standardizer_mean_std(v[\"mean\"], v[\"std\"])\n",
    "    \n",
    "# See if normalizers exists for each predictor\n",
    "for k in dataset[\"predictors\"]:\n",
    "    print(f\"{k}: - {norm_dict[k]}\")"
   ]
  },
  {
   "cell_type": "code",
   "execution_count": 10,
   "metadata": {},
   "outputs": [],
   "source": [
    "dataset['shots'].sort()"
   ]
  },
  {
   "cell_type": "code",
   "execution_count": 11,
   "metadata": {},
   "outputs": [
    {
     "name": "stdout",
     "output_type": "stream",
     "text": [
      "Sampling point of thomson profile: [0.0303     0.0878     0.1493     0.2168     0.2688     0.3051\n",
      " 0.3233     0.3638     0.39029998 0.4058     0.47779998 0.5313\n",
      " 0.5513     0.5658     0.5808     0.5958     0.6113     0.62479997\n",
      " 0.6328     0.6388     0.6473     0.65279996 0.66029996 0.66529995\n",
      " 0.67279994 0.6793     0.6858     0.6918     0.69879997 0.7048\n",
      " 0.7118     0.7173     0.7248     0.73029995 0.7368     0.7418\n",
      " 0.7493     0.7553     0.7643     0.7768     0.78929996 0.8018\n",
      " 0.8153     0.8253    ]\n"
     ]
    }
   ],
   "source": [
    "# Instantiate a sampler for the profiles.\n",
    "# Note that the ZIPFIT profiles, etempfit and edensfit are available for [0.0: 1.0]\n",
    "# But the core profiles from Thomson scattering, ts_core_dens and ts_core_temp are only \n",
    "# available on roughly [0.03, 0.8]\n",
    "\n",
    "with h5py.File(join(datapath, f\"{dataset['shots'][-1]}.h5\"), \"r\") as fp:\n",
    "    print(f\"Sampling point of thomson profile: {fp['/ts_core_dens/ydata'][:]}\")\n",
    "\n",
    "    profiles_min = 1.01 * fp['/ts_core_dens/ydata'][:].min()\n",
    "    profiles_max = 0.99 * fp['/ts_core_dens/ydata'][:].max()\n",
    "\n",
    "\n",
    "\n",
    "# This sampler_space object will resample all profiles over the range where thomson profiles\n",
    "# are available. Now ELMs are in the edge and we may miss out on some accuarcy provided by\n",
    "# zipfit profiles. But it should be a good way to get started.\n",
    "#\n",
    "#\n",
    "# The relevant code that is executed when calling ip_profiles is\n",
    "# the method __call__ in the class definition: https://github.com/PlasmaControl/d3d_loaders/blob/e071934eea02b7c593962145c42310d64093bcce/d3d_loaders/time_sampling.py#L108\n",
    "# Note that it constructs a https://docs.scipy.org/doc/scipy/reference/generated/scipy.interpolate.interp1d.html\n",
    "# object. If the new x-values provided to this interpolator are out of bounds from the\n",
    "# bounds stored in profiles_min, profiles_max this would throw an error. \n",
    "\n",
    "ip_profile = sampler_space(np.linspace(profiles_min, profiles_max, 32, dtype=np.float32))"
   ]
  },
  {
   "cell_type": "code",
   "execution_count": 12,
   "metadata": {},
   "outputs": [
    {
     "name": "stdout",
     "output_type": "stream",
     "text": [
      "[187328, 187324, 187320, 187326, 187321, 187316, 187317, 187323, 187322, 187325]\n"
     ]
    }
   ],
   "source": [
    "# To a random test/train split over the shots.\n",
    "# As of now, only the last 10 shots are there.\n",
    "# Re-run instantiate without that and we get the entire dataset.\n",
    "shot_list = dataset[\"shots\"][-10:]\n",
    "random.shuffle(shot_list)\n",
    "\n",
    "print(shot_list)\n",
    "\n",
    "# Split\n",
    "num_shots = len(shot_list)\n",
    "num_train = 8\n",
    "num_valid = 2\n",
    "\n",
    "shots_train = shot_list[:num_train]\n",
    "shots_valid = shot_list[num_train:num_train + num_valid]"
   ]
  },
  {
   "cell_type": "code",
   "execution_count": 13,
   "metadata": {},
   "outputs": [],
   "source": [
    "# Create the training set. This fetches all signals for all shots from HDF5 files and loads them\n",
    "# into memory (torch.device(\"cpu\")). Pass the previously instantiated samplers and standardizers\n",
    "# to resample and normalize the raw signals that are stored in HDF5 files. The data in memory is then\n",
    "# resampled and normalized.\n",
    "ds_train = Multishot_dataset(shots_train, dataset[\"predictors\"], [\"ttelm\"],\n",
    "                             sampler_pred_dict, sampler_targ_dict, ip_profile, norm_dict, datapath, torch.device(\"cpu\"))\n"
   ]
  },
  {
   "cell_type": "code",
   "execution_count": 14,
   "metadata": {},
   "outputs": [
    {
     "name": "stdout",
     "output_type": "stream",
     "text": [
      "shot 187328, length: 1260\n",
      "shot 187324, length: 4220\n",
      "shot 187320, length: 40\n",
      "shot 187326, length: 4220\n",
      "shot 187321, length: 40\n",
      "shot 187316, length: 4220\n",
      "shot 187317, length: 4220\n",
      "shot 187323, length: 4220\n"
     ]
    }
   ],
   "source": [
    "# Print out info on the shots and lengths of the training set\n",
    "shot_length_train = []\n",
    "for ix, shotnr in enumerate(shots_train):\n",
    "    shot_length_train.append(ds_train.shot(ix).__len__())\n",
    "    print(f\"shot {shotnr}, length: {shot_length_train[-1]}\")"
   ]
  },
  {
   "cell_type": "code",
   "execution_count": 16,
   "metadata": {},
   "outputs": [],
   "source": [
    "# Create the validation set in the same manner as the training set\n",
    "ds_valid = Multishot_dataset(shots_valid, dataset[\"predictors\"], [\"ttelm\"],\n",
    "                             sampler_pred_dict, sampler_targ_dict, ip_profile, norm_dict, datapath, torch.device(\"cpu\"))"
   ]
  },
  {
   "cell_type": "code",
   "execution_count": 17,
   "metadata": {},
   "outputs": [
    {
     "name": "stdout",
     "output_type": "stream",
     "text": [
      "shot 187322, length: 4220\n",
      "shot 187325, length: 4220\n"
     ]
    }
   ],
   "source": [
    "# Print info on validation set\n",
    "shot_length_valid = []\n",
    "for ix, shotnr in enumerate(shots_valid):\n",
    "    shot_length_valid.append(ds_valid.shot(ix).__len__())\n",
    "    print(f\"shot {shotnr}, length: {shot_length_valid[-1]}\")"
   ]
  },
  {
   "cell_type": "code",
   "execution_count": 19,
   "metadata": {},
   "outputs": [
    {
     "data": {
      "text/plain": [
       "Text(0, 0.5, 'TTELM')"
      ]
     },
     "execution_count": 19,
     "metadata": {},
     "output_type": "execute_result"
    },
    {
     "data": {
      "image/png": "[encoded data removed]",
      "text/plain": [
       "<Figure size 640x480 with 2 Axes>"
      ]
     },
     "metadata": {},
     "output_type": "display_data"
    }
   ],
   "source": [
    "# Plot TTELM target for test and validation sets\n",
    "fig = plt.figure()\n",
    "ax_tr = fig.add_axes([0.2, 0.2, 0.75, 0.375])\n",
    "ax_vl = fig.add_axes([0.2, 0.575, 0.75, 0.375])\n",
    "\n",
    "\n",
    "for ix_shot in range(len(ds_train.datasets)):\n",
    "    ax_tr.plot(ds_train.shot(ix_shot).targets[\"ttelm\"].data)\n",
    "    \n",
    "for ix_shot in range(len(ds_valid.datasets)):\n",
    "    ax_vl.plot(ds_valid.shot(ix_shot).targets[\"ttelm\"].data)\n",
    "    \n",
    "ax_tr.set_xlabel(\"time [sample] (1sample=1ms)\")\n",
    "ax_tr.set_ylabel(\"TTELM\")\n",
    "ax_vl.set_ylabel(\"TTELM\")"
   ]
  },
  {
   "cell_type": "code",
   "execution_count": 20,
   "metadata": {},
   "outputs": [],
   "source": [
    "# Instantiate a loader for the training set.\n",
    "# This loader picks 'batch_size' sequences of size seq_length+1 at random starting points, distributed across shots.\n",
    "# Use shuffle=True to shuffle the dataset. Note that the sampler sets a seed for shuffling. During training\n",
    "# we have to manually set the seed so that the shuffling will be different in every epoch\n",
    "sampler_train = BatchedSampler_multi(shot_length_train, seq_length, batch_size, shuffle=True)\n",
    "\n",
    "loader_train = DataLoader(ds_train,\n",
    "                         batch_sampler=sampler_train, \n",
    "                         collate_fn=collate_fn_batched())"
   ]
  },
  {
   "cell_type": "code",
   "execution_count": 21,
   "metadata": {},
   "outputs": [
    {
     "name": "stdout",
     "output_type": "stream",
     "text": [
      "torch.Size([129, 16, 212]) torch.Size([129, 16, 1]) <class 'torch.Tensor'> torch.float32 <class 'torch.Tensor'> torch.float32\n",
      "1 iteration over dataset takes  18.160s\n"
     ]
    }
   ],
   "source": [
    "# Verify that we can iterate over all sequences and print timing info. Print out info on the shape of\n",
    "# the returned tensors in the first epoch.\n",
    "# Dimemsions should be [seq_length+1, batch_size, number_of_predictors] for x\n",
    "# and [seq_length+1, batch_size, number_of_targets] for y.\n",
    "# Number of predictors len(d3d_100[\"predictors\"]), since each predictor only has one channel.\n",
    "# Number of targets is 1, since we only predict 'ttd'\n",
    "out = True\n",
    "t_start = perf_counter()\n",
    "for x, y in loader_train:\n",
    "    if out:\n",
    "        print(x.shape, y.shape, type(x), x.dtype, type(y), y.dtype)\n",
    "        out = False\n",
    "    continue\n",
    "t_end = perf_counter()\n",
    "print(f\"1 iteration over dataset takes {(t_end - t_start):7.3f}s\")"
   ]
  },
  {
   "cell_type": "code",
   "execution_count": 22,
   "metadata": {},
   "outputs": [],
   "source": [
    "sampler_valid = BatchedSampler_multi(shot_length_valid, seq_length, batch_size, shuffle=True)\n",
    "\n",
    "loader_valid = DataLoader(ds_valid,\n",
    "                          batch_sampler=sampler_valid,\n",
    "                          collate_fn=collate_fn_batched())"
   ]
  },
  {
   "cell_type": "code",
   "execution_count": 23,
   "metadata": {},
   "outputs": [
    {
     "name": "stdout",
     "output_type": "stream",
     "text": [
      "torch.Size([129, 16, 212]) torch.Size([129, 16, 1]) <class 'torch.Tensor'> torch.float32 <class 'torch.Tensor'> torch.float32\n",
      "1 iteration over validation dataset takes   6.886s\n"
     ]
    }
   ],
   "source": [
    "# This cell prints out the \n",
    "\n",
    "out = True\n",
    "t_start = perf_counter()\n",
    "\n",
    "for x, y in loader_valid:\n",
    "    if out:\n",
    "        print(x.shape, y.shape, type(x), x.dtype, type(y), y.dtype)\n",
    "        out = False\n",
    "    continue\n",
    "t_end = perf_counter()\n",
    "print(f\"1 iteration over validation dataset takes {(t_end - t_start):7.3f}s\")"
   ]
  },
  {
   "cell_type": "code",
   "execution_count": 24,
   "metadata": {},
   "outputs": [],
   "source": [
    "# Define a simple LSTM model\n",
    "\n",
    "class my_lstm(nn.Module):\n",
    "    def __init__(self, num_classes, input_size, hidden_size, seq_length, num_layers=2):\n",
    "        super(my_lstm, self).__init__()\n",
    "        self.num_classes = num_classes  # Number of output features\n",
    "        self.input_size = input_size    # Number of features in the input x\n",
    "        self.hidden_size = hidden_size  # Number of features in hidden state h\n",
    "        self.seq_length = seq_length  \n",
    "        self.num_layers = num_layers\n",
    "        self.device = device\n",
    "        \n",
    "        self.lstm = nn.LSTM(input_size=self.input_size, \n",
    "                            hidden_size=self.hidden_size,\n",
    "                            num_layers=self.num_layers, \n",
    "                            batch_first=False) #lstm\n",
    "        self.fc_1 =  nn.Linear(hidden_size, 128) #fully connected 1\n",
    "        self.fc_2 = nn.Linear(128, num_classes) #fully connected last layer\n",
    "\n",
    "        self.relu = nn.ReLU()\n",
    "    \n",
    "    def forward(self, x):\n",
    "        h_0 = Variable(torch.zeros(self.num_layers, x.size(1), self.hidden_size)).to(device) #hidden state\n",
    "        c_0 = Variable(torch.zeros(self.num_layers, x.size(1), self.hidden_size)).to(device) #internal state\n",
    "        # Propagate input through LSTM\n",
    "        output, (hn, cn) = self.lstm(x, (h_0, c_0)) #lstm with input, hidden, and internal state\n",
    "        \n",
    "        hn = hn[-1, ...]    # Take output of the last hidden recurrent layer\n",
    "        out = self.relu(hn)\n",
    "        out = self.fc_1(out) #first Dense\n",
    "        out = self.relu(out) #relu\n",
    "        out = self.fc_2(out)  # Final Output\n",
    "        return out"
   ]
  },
  {
   "cell_type": "code",
   "execution_count": 25,
   "metadata": {},
   "outputs": [
    {
     "name": "stdout",
     "output_type": "stream",
     "text": [
      "588033 parameters\n"
     ]
    }
   ],
   "source": [
    "# Instantiate the model. num_classes=1, since the output is a 1d sequence (the TTD).\n",
    "# input_size is just the number of predictors (remember, 1 channel per predictor)\n",
    "# We grab the input size from the tensor x in the cells above where we time the\n",
    "# duration for iterating over the entire dataset\n",
    "\n",
    "inp_size = x.shape[2]\n",
    "\n",
    "model = my_lstm(1, inp_size, hidden_size=128, seq_length=seq_length, num_layers=4).to(device)\n",
    "\n",
    "# Calculate parameters\n",
    "n_param = 0\n",
    "for param in model.parameters():\n",
    "    n_param += param.nelement()\n",
    "print(f\"{n_param} parameters\")"
   ]
  },
  {
   "cell_type": "code",
   "execution_count": 26,
   "metadata": {},
   "outputs": [],
   "source": [
    "# Create a loss function and optimizer\n",
    "loss_fn = nn.MSELoss()\n",
    "optimizer = torch.optim.Adam(model.parameters(), lr=5e-4)"
   ]
  },
  {
   "cell_type": "code",
   "execution_count": 28,
   "metadata": {},
   "outputs": [
    {
     "name": "stdout",
     "output_type": "stream",
     "text": [
      "Epoch 0 took  38.693s. train loss = 4.813411e-02, valid loss =  7.674111e-03\n",
      "Epoch 1 took  36.643s. train loss = 4.819236e-02, valid loss =  1.121221e-02\n",
      "Epoch 2 took  36.758s. train loss = 4.892590e-02, valid loss =  8.710471e-03\n",
      "Epoch 3 took  36.644s. train loss = 4.859795e-02, valid loss =  7.019756e-03\n",
      "Epoch 4 took  36.806s. train loss = 4.675786e-02, valid loss =  7.423102e-03\n",
      "Epoch 5 took  36.574s. train loss = 4.649268e-02, valid loss =  9.220318e-03\n",
      "Epoch 6 took  36.807s. train loss = 4.585446e-02, valid loss =  7.118689e-03\n",
      "Epoch 7 took  36.637s. train loss = 4.582426e-02, valid loss =  9.884950e-03\n",
      "Epoch 8 took  36.598s. train loss = 4.670824e-02, valid loss =  1.443166e-02\n",
      "Epoch 9 took  36.593s. train loss = 4.548800e-02, valid loss =  7.593466e-03\n",
      "Epoch 10 took  36.547s. train loss = 4.603205e-02, valid loss =  9.347697e-03\n",
      "Epoch 11 took  37.037s. train loss = 4.529770e-02, valid loss =  1.161905e-02\n",
      "Epoch 12 took  36.557s. train loss = 4.496503e-02, valid loss =  1.204924e-02\n",
      "Epoch 13 took  36.614s. train loss = 4.464006e-02, valid loss =  7.293676e-03\n",
      "Epoch 14 took  36.718s. train loss = 4.493457e-02, valid loss =  9.364577e-03\n",
      "Epoch 15 took  36.809s. train loss = 4.450858e-02, valid loss =  1.006791e-02\n",
      "Epoch 16 took  36.778s. train loss = 4.448999e-02, valid loss =  8.436220e-03\n",
      "Epoch 17 took  36.574s. train loss = 4.411713e-02, valid loss =  9.740753e-03\n",
      "Epoch 18 took  36.564s. train loss = 4.380961e-02, valid loss =  1.235703e-02\n",
      "Epoch 19 took  36.786s. train loss = 4.370058e-02, valid loss =  1.113280e-02\n"
     ]
    }
   ],
   "source": [
    "# Train the model. This uses about 15-40% GPU on a single A100, depending on the size of the model.\n",
    "\n",
    "num_epochs = 20\n",
    "\n",
    "losses_train = np.zeros(num_epochs)\n",
    "losses_valid = np.zeros(num_epochs)\n",
    "\n",
    "for epoch in range(num_epochs):\n",
    "    # Remember to update the epoch of the samplers to use a new seed for sample shuffling\n",
    "    sampler_train.set_epoch(epoch)\n",
    "    sampler_valid.set_epoch(epoch)\n",
    "\n",
    "    t_start = perf_counter()\n",
    "    model.train()\n",
    "\n",
    "    loss_train = 0.0\n",
    "    loss_valid = 0.0\n",
    "    ix_bt = 0\n",
    "    for inputs, target in loader_train:\n",
    "        inputs = inputs.to(device)\n",
    "        target = target.to(device)\n",
    "        optimizer.zero_grad()\n",
    "\n",
    "        output = model(inputs[:-1, :, :])\n",
    "\n",
    "        loss = loss_fn(output, target[-1,:,:])\n",
    "        loss.backward()\n",
    "        optimizer.step()\n",
    "\n",
    "        loss_train += loss.item()\n",
    "        #print(f\"batch {ix_b}: loss = {loss.item()}\")\n",
    "        ix_bt += 1\n",
    "    \n",
    "    ix_bv = 0\n",
    "    with torch.no_grad():\n",
    "        for inputs, target in loader_valid:\n",
    "            inputs = inputs.to(device)\n",
    "            target = target.to(device)\n",
    "            \n",
    "            output = model(inputs[:-1, :, :])\n",
    "        \n",
    "            loss_valid += loss_fn(output, target[-1, :, :]).item()\n",
    "            ix_bv += 1\n",
    "            \n",
    "    losses_train[epoch] = loss_train / ix_bt / batch_size\n",
    "    losses_valid[epoch] = loss_valid / ix_bv / batch_size\n",
    "    t_end = perf_counter()\n",
    "    t_epoch = t_end - t_start\n",
    "    \n",
    "    \n",
    "    print(f\"Epoch {epoch} took {t_epoch:7.3f}s. train loss = {losses_train[epoch]:8.6e}, valid loss =  {losses_valid[epoch]:8.6e}\")\n"
   ]
  },
  {
   "cell_type": "code",
   "execution_count": 29,
   "metadata": {},
   "outputs": [
    {
     "ename": "RuntimeError",
     "evalue": "Default process group has not been initialized, please make sure to call init_process_group.",
     "output_type": "error",
     "traceback": [
      "\u001b[0;31m---------------------------------------------------------------------------\u001b[0m",
      "\u001b[0;31mRuntimeError\u001b[0m                              Traceback (most recent call last)",
      "Cell \u001b[0;32mIn[29], line 3\u001b[0m\n\u001b[1;32m      1\u001b[0m \u001b[39mfor\u001b[39;00m ix_shot \u001b[39min\u001b[39;00m \u001b[39mrange\u001b[39m(\u001b[39mlen\u001b[39m(ds_valid)):\n\u001b[1;32m      2\u001b[0m     loader_seq \u001b[39m=\u001b[39m DataLoader(ds_valid\u001b[39m.\u001b[39mshot(ix_shot),\n\u001b[0;32m----> 3\u001b[0m                             batch_sampler\u001b[39m=\u001b[39mBatchedSampler(shot_length_valid[ix_shot], seq_length, batch_size, shuffle\u001b[39m=\u001b[39;49m\u001b[39mFalse\u001b[39;49;00m),\n\u001b[1;32m      4\u001b[0m                             collate_fn\u001b[39m=\u001b[39mcollate_fn_batched())\n\u001b[1;32m      6\u001b[0m     output_pred \u001b[39m=\u001b[39m np\u001b[39m.\u001b[39mzeros(shot_length_valid[ix_shot])\n\u001b[1;32m      7\u001b[0m     output_true \u001b[39m=\u001b[39m np\u001b[39m.\u001b[39mzeros(shot_length_valid[ix_shot])\n",
      "File \u001b[0;32m~/repos/d3d_loaders/d3d_loaders/samplers.py:38\u001b[0m, in \u001b[0;36mBatchedSampler.__init__\u001b[0;34m(self, num_elements, seq_length, batch_size, num_replicas, rank, shuffle, seed)\u001b[0m\n\u001b[1;32m     36\u001b[0m     \u001b[39mif\u001b[39;00m \u001b[39mnot\u001b[39;00m dist\u001b[39m.\u001b[39mis_available():\n\u001b[1;32m     37\u001b[0m         \u001b[39mraise\u001b[39;00m \u001b[39mRuntimeError\u001b[39;00m(\u001b[39m\"\u001b[39m\u001b[39mRequires distributed package to be available\u001b[39m\u001b[39m\"\u001b[39m)\n\u001b[0;32m---> 38\u001b[0m     num_replicas \u001b[39m=\u001b[39m dist\u001b[39m.\u001b[39;49mget_world_size()\n\u001b[1;32m     39\u001b[0m \u001b[39mif\u001b[39;00m rank \u001b[39mis\u001b[39;00m \u001b[39mNone\u001b[39;00m:\n\u001b[1;32m     40\u001b[0m     \u001b[39mif\u001b[39;00m \u001b[39mnot\u001b[39;00m dist\u001b[39m.\u001b[39mis_available():\n",
      "File \u001b[0;32m~/frnn/frnn/lib/python3.9/site-packages/torch/distributed/distributed_c10d.py:1067\u001b[0m, in \u001b[0;36mget_world_size\u001b[0;34m(group)\u001b[0m\n\u001b[1;32m   1064\u001b[0m \u001b[39mif\u001b[39;00m _rank_not_in_group(group):\n\u001b[1;32m   1065\u001b[0m     \u001b[39mreturn\u001b[39;00m \u001b[39m-\u001b[39m\u001b[39m1\u001b[39m\n\u001b[0;32m-> 1067\u001b[0m \u001b[39mreturn\u001b[39;00m _get_group_size(group)\n",
      "File \u001b[0;32m~/frnn/frnn/lib/python3.9/site-packages/torch/distributed/distributed_c10d.py:453\u001b[0m, in \u001b[0;36m_get_group_size\u001b[0;34m(group)\u001b[0m\n\u001b[1;32m    449\u001b[0m \u001b[39m\u001b[39m\u001b[39m\"\"\"\u001b[39;00m\n\u001b[1;32m    450\u001b[0m \u001b[39mHelper that gets a given group's world size.\u001b[39;00m\n\u001b[1;32m    451\u001b[0m \u001b[39m\"\"\"\u001b[39;00m\n\u001b[1;32m    452\u001b[0m \u001b[39mif\u001b[39;00m group \u001b[39mis\u001b[39;00m GroupMember\u001b[39m.\u001b[39mWORLD \u001b[39mor\u001b[39;00m group \u001b[39mis\u001b[39;00m \u001b[39mNone\u001b[39;00m:\n\u001b[0;32m--> 453\u001b[0m     default_pg \u001b[39m=\u001b[39m _get_default_group()\n\u001b[1;32m    454\u001b[0m     \u001b[39mreturn\u001b[39;00m default_pg\u001b[39m.\u001b[39msize()\n\u001b[1;32m    455\u001b[0m \u001b[39mreturn\u001b[39;00m group\u001b[39m.\u001b[39msize()\n",
      "File \u001b[0;32m~/frnn/frnn/lib/python3.9/site-packages/torch/distributed/distributed_c10d.py:584\u001b[0m, in \u001b[0;36m_get_default_group\u001b[0;34m()\u001b[0m\n\u001b[1;32m    580\u001b[0m \u001b[39m\u001b[39m\u001b[39m\"\"\"\u001b[39;00m\n\u001b[1;32m    581\u001b[0m \u001b[39mGetting the default process group created by init_process_group\u001b[39;00m\n\u001b[1;32m    582\u001b[0m \u001b[39m\"\"\"\u001b[39;00m\n\u001b[1;32m    583\u001b[0m \u001b[39mif\u001b[39;00m \u001b[39mnot\u001b[39;00m is_initialized():\n\u001b[0;32m--> 584\u001b[0m     \u001b[39mraise\u001b[39;00m \u001b[39mRuntimeError\u001b[39;00m(\n\u001b[1;32m    585\u001b[0m         \u001b[39m\"\u001b[39m\u001b[39mDefault process group has not been initialized, \u001b[39m\u001b[39m\"\u001b[39m\n\u001b[1;32m    586\u001b[0m         \u001b[39m\"\u001b[39m\u001b[39mplease make sure to call init_process_group.\u001b[39m\u001b[39m\"\u001b[39m\n\u001b[1;32m    587\u001b[0m     )\n\u001b[1;32m    588\u001b[0m \u001b[39mreturn\u001b[39;00m GroupMember\u001b[39m.\u001b[39mWORLD\n",
      "\u001b[0;31mRuntimeError\u001b[0m: Default process group has not been initialized, please make sure to call init_process_group."
     ]
    }
   ],
   "source": [
    "for ix_shot in range(len(ds_valid)):\n",
    "    loader_seq = DataLoader(ds_valid.shot(ix_shot),\n",
    "                            batch_sampler=BatchedSampler(shot_length_valid[ix_shot], seq_length, batch_size, shuffle=False),\n",
    "                            collate_fn=collate_fn_batched())\n",
    "    \n",
    "    output_pred = np.zeros(shot_length_valid[ix_shot])\n",
    "    output_true = np.zeros(shot_length_valid[ix_shot])\n",
    "    for ix, (x, y) in enumerate(loader_seq):\n",
    "        inputs = x.to(device)\n",
    "        output = model(inputs[:-1, :, :])\n",
    "        # Skip partial batches\n",
    "        if output.shape[0] == batch_size:\n",
    "            output_pred[seq_length + (ix * batch_size):seq_length + ((ix + 1) * batch_size)] = output[:, 0].detach().cpu()\n",
    "            output_true[seq_length + (ix * batch_size):seq_length + ((ix + 1) * batch_size)] = y[-1, :, 0].detach().cpu()\n",
    "        \n",
    "    plt.figure()\n",
    "    plt.plot(output_true[seq_length:], label=\"True\")\n",
    "    plt.plot(output_pred[seq_length:], label=\"Predicted\")\n",
    "    plt.title(f\"Shot {ds_valid.shot(ix_shot).shotnr}\")\n",
    "    plt.xlabel(\"time [samples] (1 sample = 1ms)\")\n",
    "    plt.ylabel(\"log(ttd)\")\n",
    "    plt.legend(loc=\"lower left\")\n",
    "    plt.savefig(f\"plots/FRNN_ELM_prediction_{ds_valid.shot(ix_shot).shotnr}.png\")"
   ]
  },
  {
   "cell_type": "code",
   "execution_count": null,
   "metadata": {},
   "outputs": [],
   "source": []
  }
 ],
 "metadata": {
  "kernelspec": {
   "display_name": "Python 3 (ipykernel)",
   "language": "python",
   "name": "python3"
  },
  "language_info": {
   "codemirror_mode": {
    "name": "ipython",
    "version": 3
   },
   "file_extension": ".py",
   "mimetype": "text/x-python",
   "name": "python",
   "nbconvert_exporter": "python",
   "pygments_lexer": "ipython3",
   "version": "3.9.13"
  },
  "orig_nbformat": 4
 },
 "nbformat": 4,
 "nbformat_minor": 2
}
