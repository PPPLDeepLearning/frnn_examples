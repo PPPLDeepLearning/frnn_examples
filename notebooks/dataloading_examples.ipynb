{
 "cells": [
  {
   "attachments": {},
   "cell_type": "markdown",
   "metadata": {},
   "source": [
    " # Data Loading tutorial\n",
    "\n",
    " This notebook demonstrates the structure of the new dataset laytou from\n",
    " * https://github.com/PPPLDeepLearning/dataset_D3D_100\n",
    " * https://github.com/PPPLDeepLearning/dataset_ELM_full\n",
    "\n",
    "and how to use to [d3d_loaders](https://github.com/PlasmaControl/d3d_loaders) stage this data for deep learning purposes\n",
    "\n",
    "d3d_loaders provides torch datasets and samplers interface to operate on a collection of HDF5 files that\n",
    "are downloaded and pre-processed by the scripts in the dataset repos.\n",
    "\n",
    "The implementation of this interface closely follows https://pytorch.org/docs/stable/data.html\n",
    "\n"
   ]
  },
  {
   "cell_type": "code",
   "execution_count": 3,
   "metadata": {
    "vscode": {
     "languageId": "python"
    }
   },
   "outputs": [],
   "source": [
    "import h5py\n",
    "\n",
    "from os.path import join \n",
    "import numpy as np\n",
    "import matplotlib.pyplot as plt\n",
    "import yaml\n",
    "import random\n",
    "from time import perf_counter"
   ]
  },
  {
   "cell_type": "code",
   "execution_count": 6,
   "metadata": {
    "vscode": {
     "languageId": "python"
    }
   },
   "outputs": [],
   "source": [
    "import torch\n",
    "from torch.utils.data import DataLoader\n"
   ]
  },
  {
   "cell_type": "code",
   "execution_count": 4,
   "metadata": {
    "vscode": {
     "languageId": "python"
    }
   },
   "outputs": [],
   "source": [
    "import sys\n",
    "sys.path.append(\"/home/rkube/repos/d3d_loaders\")"
   ]
  },
  {
   "cell_type": "code",
   "execution_count": 20,
   "metadata": {
    "vscode": {
     "languageId": "python"
    }
   },
   "outputs": [],
   "source": [
    "from d3d_loaders.time_sampling import sampler_causal, sampler_linearip, sampler_space\n",
    "from d3d_loaders.standardizers import standardizer_mean_std\n",
    "from d3d_loaders.d3d_loaders import D3D_dataset\n",
    "from d3d_loaders.samplers import BatchedSampler, BatchedSampler_multi, collate_fn_batched"
   ]
  },
  {
   "cell_type": "code",
   "execution_count": 7,
   "metadata": {
    "vscode": {
     "languageId": "python"
    }
   },
   "outputs": [],
   "source": [
    "# Parameters for data loading\n",
    "seq_length = 128   # Length of the sequence used to predict the Time-To-Disruption (TTD)\n",
    "batch_size = 16     \n",
    "\n",
    "device = torch.device(\"cuda:0\" if torch.cuda.is_available() else \"cpu\")"
   ]
  },
  {
   "attachments": {},
   "cell_type": "markdown",
   "metadata": {},
   "source": [
    "## First we set up the d3d_loaders infrastructure to instantiate a dataset"
   ]
  },
  {
   "cell_type": "code",
   "execution_count": 15,
   "metadata": {
    "vscode": {
     "languageId": "python"
    }
   },
   "outputs": [],
   "source": [
    "# Fetch the dataset definition.\n",
    "# The dataset was compiled with the code in\n",
    "# https://github.com/PPPLDeepLearning/dataset_D3D_100\n",
    "datapath = \"/projects/FRNN/dataset_D3D_100/D3D_100\"\n",
    "\n",
    "# fetch dataset definition for list of predictors.\n",
    "with open(join(datapath, \"..\", \"d3d_100.yaml\"), \"r\") as fp:\n",
    "    d3d_100 = yaml.safe_load(fp)\n",
    "\n",
    "\n",
    "shotnr = list(d3d_100[\"shots\"].keys())[0]"
   ]
  },
  {
   "cell_type": "code",
   "execution_count": 16,
   "metadata": {
    "vscode": {
     "languageId": "python"
    }
   },
   "outputs": [],
   "source": [
    "# Next we need to instantiate samplers.\n",
    "# These are used when reading the signal data from HDF5 and resample the raw MDS/PTdata signals\n",
    "# onto a common time-base\n",
    "# Each shot has a different length. We therefore create separate re-samplers for each shot\n",
    "# that will operate on the duration for each specific shot.\n",
    "#\n",
    "# The times t_max and t_min have been calculated when the dataset was instantiated.\n",
    "\n",
    "# Load tmax from yaml\n",
    "with open(join(datapath, \"..\", \"shots_t_min_max.yaml\"), \"r\") as fp:\n",
    "    t_min_max_dict = yaml.safe_load(fp)\n",
    "\n",
    "\n",
    "# The D3D_dataset expects samplers than allow to put all signals, fs07, ipsip, etc, onto\n",
    "# a common time-base\n",
    "tmin = t_min_max_dict[shotnr][\"tmin\"]\n",
    "tmax = t_min_max_dict[shotnr][\"tmax\"]\n",
    "sampler_pred = sampler_causal(tmin, tmax, 1.0, t_shift=0.0)\n",
    "sampler_targ = sampler_linearip(tmin, tmax, 1.0, t_shift=0.0)\n"
   ]
  },
  {
   "cell_type": "code",
   "execution_count": 17,
   "metadata": {
    "vscode": {
     "languageId": "python"
    }
   },
   "outputs": [
    {
     "name": "stdout",
     "output_type": "stream",
     "text": [
      "q95: - standardizer_mean_std, mean=5.039928436279297, std=1.5716230869293213\n",
      "efsli: - standardizer_mean_std, mean=0.35555943846702576, std=1.857176423072815\n",
      "ipspr15V: - standardizer_mean_std, mean=0.5942406058311462, std=1.3463371992111206\n",
      "efsbetan: - standardizer_mean_std, mean=0.5025940537452698, std=2.617089033126831\n",
      "efswmhd: - standardizer_mean_std, mean=192412.53125, std=336368.1875\n",
      "dssdenest: - standardizer_mean_std, mean=1.5957257747650146, std=2.1213574409484863\n",
      "pradcore: - standardizer_mean_std, mean=0.000497624627314508, std=0.0013699629344046116\n",
      "pradedge: - standardizer_mean_std, mean=0.00027844574651680887, std=0.0006822358118370175\n",
      "bmspinj: - standardizer_mean_std, mean=2996.464599609375, std=3231.459228515625\n",
      "bmstinj: - standardizer_mean_std, mean=2.405306577682495, std=2.611988067626953\n",
      "ipsiptargt: - standardizer_mean_std, mean=1.0042184591293335, std=1.1156623363494873\n",
      "ipeecoil: - standardizer_mean_std, mean=-0.023169364780187607, std=0.18698279559612274\n",
      "edensfit: - standardizer_mean_std, mean=3.132974863052368, std=2.1050822734832764\n",
      "etempfit: - standardizer_mean_std, mean=1.455143928527832, std=1.318780779838562\n"
     ]
    }
   ],
   "source": [
    "# Signals are to be normalized to a mean and standard deviation that is calculated over all shots\n",
    "# in the dataset. Again, these have been calculated during dataset instantiation and stored in a yaml file.\n",
    "# Here we only need to read the results from that file and instantiate a standardizer for each predictor.\n",
    "  \n",
    "norm_dict = {}\n",
    "with open(join(datapath, \"..\", \"normalization.yaml\"), \"r\") as fp:\n",
    "    normalization = yaml.safe_load(fp)\n",
    "\n",
    "for k, v in normalization.items():\n",
    "    norm_dict[k] = standardizer_mean_std(v[\"mean\"], v[\"std\"])\n",
    "    \n",
    "# See if normalizers exists for each predictor\n",
    "for k in d3d_100[\"predictors\"]:\n",
    "    print(f\"{k}: - {norm_dict[k]}\")"
   ]
  },
  {
   "cell_type": "code",
   "execution_count": 18,
   "metadata": {
    "vscode": {
     "languageId": "python"
    }
   },
   "outputs": [],
   "source": [
    "# Instantiate a sampler for the profiles.\n",
    "# This will re-sample edensfit and etempfit on psi=[0.0, 1.0] with 32 points\n",
    "\n",
    "ip_profile = sampler_space(np.linspace(0.0, 1.0, 32, dtype=np.float32))"
   ]
  },
  {
   "attachments": {},
   "cell_type": "markdown",
   "metadata": {},
   "source": [
    "### Instantiate a data set\n",
    "The dataset serves like a high-level interface to signals from a single shot.\n",
    "Internally, it re-samples all signals onto a common time-base, given by `sampler_pred` for the predictors\n",
    "and `sampler_targ` for the target. The profiles are re-sampled onto common spatial points, defined through `ip_profile`. Data is normalized according to `norm_dict`.\n",
    "\n",
    "See the code for the D3D_dataset class here: https://github.com/PlasmaControl/d3d_loaders/blob/6c8a068d81be80c47edd30fbafb85cc730636853/d3d_loaders/d3d_loaders.py#L20\n",
    "The constructor will iterate over the list of predictors passed and builds  a `signal` class for each predictor.\n",
    "\n",
    "\n",
    "Re-sampling and normalization happens when a `signal` class is instantiated here:\n",
    "https://github.com/PlasmaControl/d3d_loaders/blob/6c8a068d81be80c47edd30fbafb85cc730636853/d3d_loaders/signal0d.py#L19"
   ]
  },
  {
   "cell_type": "code",
   "execution_count": 21,
   "metadata": {
    "vscode": {
     "languageId": "python"
    }
   },
   "outputs": [],
   "source": [
    "# Create a dataset for a single shot. This fetches all signals for all shots from HDF5 files and loads them\n",
    "# into memory (torch.device(\"cpu\")). Pass the previously instantiated samplers and standardizers\n",
    "# to resample and normalize the raw signals that are stored in HDF5 files. The data in memory is then\n",
    "# resampled and normalized.\n",
    "ds_train = D3D_dataset(shotnr, d3d_100[\"predictors\"], [\"ttd\"],\n",
    "                       sampler_pred, sampler_targ, ip_profile, norm_dict, datapath, torch.device(\"cpu\"))\n",
    "#"
   ]
  },
  {
   "attachments": {},
   "cell_type": "markdown",
   "metadata": {},
   "source": [
    "### Build a DataLoader\n",
    "For disruption prediction and ELM prediction we need a ML model to map a sequence of input signal data to\n",
    "a time-to-disruption or time-to-ELM. That is we map a time series to a scalar\n",
    "[x_0, x_1,...., x_N] -> TTD\n",
    "\n",
    "Here N is the sequence length, which correcposnds to the variable `seq_length` in this notebook.\n",
    "\n",
    "Here the x_0, x_1, etc are just the samples of all predictor signals stacked on top of each other:\n",
    "\n",
    "x_0 = [q95_0, efsli_0, ... edensfit_0, etempfit_0]. The order corresposnds to `d3d_100[\"predictors\"]`\n",
    "\n",
    "That is our model maps\n",
    "\n",
    "model([x_0, ..., x_N]) = TTD_{N+_1}\n",
    "\n",
    "In the notebook here, we map a sequence of 128 samples to the TTD that immediately follows that sequence.\n",
    "\n",
    "\n",
    "The DataLoaders allow us to sample these sequences from the data set.\n",
    "\n",
    "\n",
    "\n",
    "\n",
    "\n",
    "\n"
   ]
  },
  {
   "cell_type": "code",
   "execution_count": 23,
   "metadata": {
    "vscode": {
     "languageId": "python"
    }
   },
   "outputs": [],
   "source": [
    "# The ds_train dataset serves as an interface to pull data from the collection of HDF5 files\n",
    "# that are stored on disk.\n",
    "#\n",
    "# To access samples of sequences from the signal data we use a DataLoader\n",
    "\n",
    "\n",
    "# The sampler defines the length, batch_size, and order of the sequences we sample\n",
    "# seq_length: Length of the data time series\n",
    "# batch_size: number of independent sequences we get from the HDF5 files\n",
    "# shuffle: True means all sequences start at a random point. False means the sequences will be sampled in\n",
    "# order when iterating over the data loader\n",
    "sampler_train = BatchedSampler(len(ds_train), seq_length, batch_size, shuffle=False)\n",
    "\n",
    "loader_train = DataLoader(ds_train,\n",
    "                         batch_sampler=sampler_train, \n",
    "                         collate_fn=collate_fn_batched())"
   ]
  },
  {
   "cell_type": "code",
   "execution_count": 26,
   "metadata": {
    "vscode": {
     "languageId": "python"
    }
   },
   "outputs": [
    {
     "name": "stdout",
     "output_type": "stream",
     "text": [
      "torch.Size([129, 16, 76]) torch.Size([129, 16, 1])\n"
     ]
    }
   ],
   "source": [
    "# Now that we have a data loader, we can get the first sample\n",
    "x, y = next(iter(loader_train))\n",
    "\n",
    "print(x.shape, y.shape)"
   ]
  },
  {
   "attachments": {},
   "cell_type": "markdown",
   "metadata": {},
   "source": [
    "The cell above shows that when we iterate ove the dataloader, we get samples x with shape = (129, 16, 76).\n",
    "\n",
    "The first dimension has size 129=seq_length+1. This is the time dimension. That is x[0, 0, :] = \n",
    "[q95_0, efsli_0, ..., etempfit_0], which are the individual predictor time series stacked on top of each other.\n",
    "\n",
    "\n",
    "The second dimension has size 16. This is the batch dimension. Since we set shuffle=False when instantiating BatchedSampler, the sequences are shifted only by a single index\n",
    "\n",
    "\n",
    "The third dimension has size 76. This is the dimension of the number of channels per time series.\n",
    "Predictors like q95, efsli, etc. are all scalar time series. These are of type `signal_0d`:\n",
    "https://github.com/PlasmaControl/d3d_loaders/blob/main/d3d_loaders/signal0d.py\n",
    "\n",
    "Predictors like edensfit, etempfit are profiles. These are of type `signal_1d`:\n",
    "https://github.com/PlasmaControl/d3d_loaders/blob/main/d3d_loaders/signal1d.py\n",
    "Profiles are functions of both time and space. They are considered 1d time series"
   ]
  },
  {
   "cell_type": "code",
   "execution_count": 32,
   "metadata": {
    "vscode": {
     "languageId": "python"
    }
   },
   "outputs": [
    {
     "name": "stdout",
     "output_type": "stream",
     "text": [
      "tensor(True)\n",
      "tensor(True)\n"
     ]
    }
   ],
   "source": [
    "# This shows that dimemsion 1 is the batch dimension.\n",
    "# Taking the first 10 samples in batch1 is the same as taking samples 1 through 11 in batch 0.\n",
    "# That is, each batch is shifted by 1.\n",
    "# This behaviour is useful for inference, when we ask the model to re-construct the TTD time series\n",
    "# for an entire shot. We would just have to iterate a BatchedSampler with shuffle=False and iterate\n",
    "# the dataloader over all samples to get this re-construction\n",
    "\n",
    "\n",
    "# Batch 1 is shifted by 1 sample w.r.t. batch 0\n",
    "print((x[0:10, 1, :] == x[1:11, 0, :]).all())\n",
    "# Batch 2 is shifted by 2 sample w.r.t. batch 0\n",
    "print((x[0:10, 2, :] == x[2:12, 0, :]).all())"
   ]
  },
  {
   "attachments": {},
   "cell_type": "markdown",
   "metadata": {},
   "source": [
    "Next, we should be able to match values in x to values in the HDF5 files.\n"
   ]
  },
  {
   "cell_type": "code",
   "execution_count": null,
   "metadata": {
    "vscode": {
     "languageId": "python"
    }
   },
   "outputs": [],
   "source": []
  },
  {
   "cell_type": "code",
   "execution_count": 53,
   "metadata": {
    "vscode": {
     "languageId": "python"
    }
   },
   "outputs": [
    {
     "data": {
      "text/plain": [
       "[<matplotlib.lines.Line2D at 0x147039494cd0>,\n",
       " <matplotlib.lines.Line2D at 0x147039418e20>,\n",
       " <matplotlib.lines.Line2D at 0x147039418ca0>,\n",
       " <matplotlib.lines.Line2D at 0x147039397580>,\n",
       " <matplotlib.lines.Line2D at 0x147039353190>,\n",
       " <matplotlib.lines.Line2D at 0x1470393c3130>,\n",
       " <matplotlib.lines.Line2D at 0x1470393c3160>,\n",
       " <matplotlib.lines.Line2D at 0x1470393a4c10>,\n",
       " <matplotlib.lines.Line2D at 0x147039353460>,\n",
       " <matplotlib.lines.Line2D at 0x147039353550>]"
      ]
     },
     "execution_count": 53,
     "metadata": {},
     "output_type": "execute_result"
    },
    {
     "data": {
      "image/png": "[encoded data removed]",
      "text/plain": [
       "<Figure size 640x480 with 1 Axes>"
      ]
     },
     "metadata": {},
     "output_type": "display_data"
    }
   ],
   "source": [
    "# Let's plot the first predictor in the dataset\n",
    "plt.plot(x[:, 0, :10])"
   ]
  },
  {
   "cell_type": "code",
   "execution_count": 67,
   "metadata": {
    "vscode": {
     "languageId": "python"
    }
   },
   "outputs": [
    {
     "data": {
      "text/plain": [
       "[<matplotlib.lines.Line2D at 0x147029b5e9a0>]"
      ]
     },
     "execution_count": 67,
     "metadata": {},
     "output_type": "execute_result"
    },
    {
     "data": {
      "image/png": "[encoded data removed]",
      "text/plain": [
       "<Figure size 640x480 with 1 Axes>"
      ]
     },
     "metadata": {},
     "output_type": "display_data"
    }
   ],
   "source": [
    "# In this cell we have to find the corresponding predictor in the HDF5 file.\n",
    "# We should be able to get the same plot as above\n",
    "\n",
    "\n",
    "# Signals in the dataset are normalized, see https://github.com/PlasmaControl/d3d_loaders/blob/6c8a068d81be80c47edd30fbafb85cc730636853/d3d_loaders/signal0d.py#L45\n",
    "# We can use the information from the standardizer to reverse this normalization.\n",
    "# hat(x) is the normalized signal in the `signal_q95` class. x is the raw data inthe HDF5 file\n",
    "# hat(x) = (x - mean(x)) / std(x)\n",
    "# => x = hat(x) * std(x) + mean(x)\n",
    "#q95_mean = ds_train.predictors[\"q95\"].standardizer.mean\n",
    "#q95_std = ds_train.predictors[\"q95\"].standardizer.std\n",
    "\n",
    "with h5py.File(join(datapath,  f\"{shotnr}.h5\"), \"r\") as fp:\n",
    "    tb = fp[\"/efswmhd/xdata\"][:]\n",
    "    q95 = fp[\"/efswmhd/zdata\"][:]\n",
    "\n",
    "\n",
    "plt.plot(tb, q95)\n",
    "\n",
    "#q95 = (q95 * q95_std) - q95_mean\n",
    "\n",
    "#good_tidx = (tb > 0.0) & (tb < 130)\n",
    "\n",
    "#plt.plot(tb[good_tidx], q95[good_tidx])\n",
    "    "
   ]
  },
  {
   "cell_type": "code",
   "execution_count": 51,
   "metadata": {
    "vscode": {
     "languageId": "python"
    }
   },
   "outputs": [
    {
     "data": {
      "text/plain": [
       "['q95',\n",
       " 'efsli',\n",
       " 'ipspr15V',\n",
       " 'efsbetan',\n",
       " 'efswmhd',\n",
       " 'dssdenest',\n",
       " 'pradcore',\n",
       " 'pradedge',\n",
       " 'bmspinj',\n",
       " 'bmstinj',\n",
       " 'ipsiptargt',\n",
       " 'ipeecoil',\n",
       " 'edensfit',\n",
       " 'etempfit']"
      ]
     },
     "execution_count": 51,
     "metadata": {},
     "output_type": "execute_result"
    }
   ],
   "source": [
    "d3d_100[\"predictors\"]"
   ]
  },
  {
   "cell_type": "code",
   "execution_count": 48,
   "metadata": {
    "vscode": {
     "languageId": "python"
    }
   },
   "outputs": [],
   "source": [
    "mean = ds_train.predictors[\"q95\"].standardizer.mean\n",
    "std = ds_train.predictors[\"q95\"].standardizer.std"
   ]
  },
  {
   "cell_type": "code",
   "execution_count": null,
   "metadata": {
    "vscode": {
     "languageId": "python"
    }
   },
   "outputs": [],
   "source": []
  }
 ],
 "metadata": {
  "kernelspec": {
   "display_name": "Python 3 (ipykernel)",
   "language": "python",
   "name": "python3"
  },
  "orig_nbformat": 4
 },
 "nbformat": 4,
 "nbformat_minor": 2
}
